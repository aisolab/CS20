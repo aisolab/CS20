{
 "cells": [
  {
   "cell_type": "markdown",
   "metadata": {},
   "source": [
    "# CS 20 : TensorFlow for Deep Learning Research\n",
    "## Lecture 05 : Variable sharing and managing experiments\n",
    "### Applied example with tf.data\n",
    "same contents, but different style with [Lec05_Applied example with tf.data.ipynb](https://nbviewer.jupyter.org/github/aisolab/CS20/blob/master/Lec05_Variable%20sharing%20and%20managing%20experiments/Lec05_Applied%20example%20with%20tf.data.ipynb)\n",
    "\n",
    "- Using **high-level api** `tf.keras.layers` and **eager execution**\n",
    "- Creating the **input pipeline** with `tf.data`\n",
    "- Creating the model as **subclassing** `tf.keras.Model`\n",
    "- Training the model with **learning rate scheduling** by exponential decay learning rate\n",
    "- Saving the model and Restoring the model"
   ]
  },
  {
   "cell_type": "markdown",
   "metadata": {},
   "source": [
    "### Setup"
   ]
  },
  {
   "cell_type": "code",
   "execution_count": 1,
   "metadata": {},
   "outputs": [
    {
     "name": "stdout",
     "output_type": "stream",
     "text": [
      "1.12.0\n"
     ]
    }
   ],
   "source": [
    "import os, sys\n",
    "import numpy as np\n",
    "import pandas as pd\n",
    "import matplotlib.pyplot as plt\n",
    "import tensorflow as tf\n",
    "from tensorflow import keras\n",
    "%matplotlib inline\n",
    "\n",
    "print(tf.__version__)\n",
    "tf.enable_eager_execution()"
   ]
  },
  {
   "cell_type": "markdown",
   "metadata": {},
   "source": [
    "### Load and Pre-process data"
   ]
  },
  {
   "cell_type": "code",
   "execution_count": 2,
   "metadata": {},
   "outputs": [],
   "source": [
    "(x_train, y_train), (x_tst, y_tst) = keras.datasets.mnist.load_data()\n",
    "x_train = x_train  / 255\n",
    "x_train = x_train.reshape(-1, 784).astype(np.float32)\n",
    "x_tst = x_tst / 255\n",
    "x_tst = x_tst.reshape(-1, 784).astype(np.float32)\n",
    "y_train = y_train.astype(np.int32)\n",
    "y_tst = y_tst.astype(np.int32)"
   ]
  },
  {
   "cell_type": "code",
   "execution_count": 3,
   "metadata": {},
   "outputs": [
    {
     "name": "stdout",
     "output_type": "stream",
     "text": [
      "(55000, 784) (55000,)\n",
      "(5000, 784) (5000,)\n"
     ]
    }
   ],
   "source": [
    "tr_indices = np.random.choice(range(x_train.shape[0]), size = 55000, replace = False)\n",
    "\n",
    "x_tr = x_train[tr_indices]\n",
    "y_tr = y_train[tr_indices]\n",
    "\n",
    "x_val = np.delete(arr = x_train, obj = tr_indices, axis = 0)\n",
    "y_val = np.delete(arr = y_train, obj = tr_indices, axis = 0)\n",
    "\n",
    "print(x_tr.shape, y_tr.shape)\n",
    "print(x_val.shape, y_val.shape)"
   ]
  },
  {
   "cell_type": "markdown",
   "metadata": {},
   "source": [
    "### Define DNN Classifier with two hidden layer"
   ]
  },
  {
   "cell_type": "code",
   "execution_count": 4,
   "metadata": {},
   "outputs": [],
   "source": [
    "class DNNClassifier(keras.Model):\n",
    "    def __init__(self, num_classes, hidden_dims = [100, 50]):\n",
    "        super(DNNClassifier, self).__init__()\n",
    "        self.__layers = []\n",
    "\n",
    "        for h_dim in hidden_dims:\n",
    "            self.__layers.append(keras.layers.Dense(units=h_dim, kernel_initializer='glorot_normal',\n",
    "                                                    activation=keras.activations.tanh))\n",
    "        else:\n",
    "            self.__layers.append(keras.layers.Dense(units=num_classes, kernel_initializer='glorot_normal'))\n",
    "    \n",
    "    def call(self, inputs):\n",
    "        for layers in self.__layers:\n",
    "            outputs = layers(inputs)\n",
    "        return outputs"
   ]
  },
  {
   "cell_type": "markdown",
   "metadata": {},
   "source": [
    "### Create a model of DNN Classifier"
   ]
  },
  {
   "cell_type": "code",
   "execution_count": 5,
   "metadata": {},
   "outputs": [],
   "source": [
    "dnn = DNNClassifier(num_classes=10)"
   ]
  },
  {
   "cell_type": "markdown",
   "metadata": {},
   "source": [
    "### Train a model\n",
    "Applying exponential decay learning rate to train DNN model  \n",
    "```python\n",
    "decayed_learning_rate = learning_rate * decay_rate ^ (global_step / decay_steps)\n",
    "\n",
    "```\n",
    "\n",
    "* `tf.train.exponential_decay` : https://www.tensorflow.org/api_docs/python/tf/train/exponential_decay\n",
    "* Object-based saving : https://www.tensorflow.org/guide/eager#object-based_saving\n",
    "* Summaries and TensorBoard : https://www.tensorflow.org/guide/eager#object-oriented_metrics"
   ]
  },
  {
   "cell_type": "code",
   "execution_count": 6,
   "metadata": {},
   "outputs": [],
   "source": [
    "# define loss function\n",
    "def loss_fn(model, x, y):\n",
    "    logits = model(x)\n",
    "    return tf.losses.sparse_softmax_cross_entropy(labels=y, logits=logits)"
   ]
  },
  {
   "cell_type": "code",
   "execution_count": 7,
   "metadata": {},
   "outputs": [],
   "source": [
    "# hyper-parameter\n",
    "epochs = 15\n",
    "batch_size = 100\n",
    "learning_rate = .005\n",
    "total_step = int(x_tr.shape[0] / batch_size)\n",
    "# print(total_step)"
   ]
  },
  {
   "cell_type": "code",
   "execution_count": 8,
   "metadata": {},
   "outputs": [
    {
     "name": "stdout",
     "output_type": "stream",
     "text": [
      "<BatchDataset shapes: ((?, 784), (?,)), types: (tf.float32, tf.int32)>\n",
      "<BatchDataset shapes: ((?, 784), (?,)), types: (tf.float32, tf.int32)>\n"
     ]
    }
   ],
   "source": [
    "## create input pipeline with tf.data\n",
    "# for train\n",
    "tr_dataset = tf.data.Dataset.from_tensor_slices((x_tr, y_tr))\n",
    "tr_dataset = tr_dataset.shuffle(buffer_size=10000)\n",
    "tr_dataset = tr_dataset.batch(batch_size=batch_size)\n",
    "print(tr_dataset)\n",
    "\n",
    "# for validation\n",
    "val_dataset = tf.data.Dataset.from_tensor_slices((x_val,y_val))\n",
    "val_dataset = val_dataset.batch(batch_size=batch_size)\n",
    "print(val_dataset)"
   ]
  },
  {
   "cell_type": "code",
   "execution_count": 9,
   "metadata": {},
   "outputs": [],
   "source": [
    "# applying exponential decay learning rate to train dnn model\n",
    "global_step = tf.train.get_or_create_global_step()\n",
    "\n",
    "exp_decayed_lr = tf.train.exponential_decay(learning_rate=learning_rate,\n",
    "                                            global_step=global_step,\n",
    "                                            decay_steps=total_step * 5,\n",
    "                                            decay_rate=.9,\n",
    "                                            staircase=True)\n",
    "# creating optimizer\n",
    "opt = tf.train.AdamOptimizer(learning_rate=exp_decayed_lr)\n",
    "\n",
    "# creating check point (Object-based saving)\n",
    "checkpoint_dir = '../graphs/lecture05/applied_example_wd_ke/'\n",
    "checkpoint_prefix = os.path.join(checkpoint_dir, 'dnn')\n",
    "checkpoint = tf.train.Checkpoint(dnn=dnn)\n",
    "\n",
    "# create writer for tensorboard\n",
    "summary_writer = tf.contrib.summary.create_file_writer(logdir=checkpoint_dir)"
   ]
  },
  {
   "cell_type": "code",
   "execution_count": 10,
   "metadata": {},
   "outputs": [
    {
     "name": "stdout",
     "output_type": "stream",
     "text": [
      "epoch :   5, tr_loss : 0.27, val_loss : 0.28\n",
      "epoch :  10, tr_loss : 0.25, val_loss : 0.28\n",
      "epoch :  15, tr_loss : 0.24, val_loss : 0.28\n"
     ]
    }
   ],
   "source": [
    "# training\n",
    "tr_loss_hist = []\n",
    "val_loss_hist = []\n",
    "\n",
    "for epoch in range(epochs):\n",
    "\n",
    "    avg_tr_loss = 0\n",
    "    avg_val_loss = 0\n",
    "    tr_step = 0\n",
    "    val_step = 0\n",
    "    \n",
    "    # training\n",
    "    with summary_writer.as_default(), tf.contrib.summary.always_record_summaries(): # for tensorboard\n",
    "        for x_mb, y_mb in tr_dataset:\n",
    "            with tf.GradientTape() as tape:\n",
    "                tr_loss = loss_fn(dnn, x_mb, y_mb)\n",
    "            grads = tape.gradient(target=tr_loss, sources=dnn.variables)\n",
    "            opt.apply_gradients(grads_and_vars=zip(grads, dnn.variables), global_step=global_step)\n",
    "            tf.contrib.summary.scalar(name='tr_loss', tensor=tr_loss)\n",
    "            avg_tr_loss += tr_loss\n",
    "            tr_step += 1\n",
    "        else:\n",
    "            avg_tr_loss /= tr_step\n",
    "            tr_loss_hist.append(avg_tr_loss)\n",
    "                \n",
    "        # validation\n",
    "        for x_mb, y_mb in val_dataset:\n",
    "            val_loss = loss_fn(dnn, x_mb, y_mb)\n",
    "            tf.contrib.summary.scalar(name='val_loss', tensor=val_loss)\n",
    "            avg_val_loss += val_loss\n",
    "            val_step += 1\n",
    "        else:\n",
    "            avg_val_loss /= val_step\n",
    "            val_loss_hist.append(avg_val_loss)\n",
    "    \n",
    "    if (epoch + 1) % 5 == 0:\n",
    "        print('epoch : {:3}, tr_loss : {:.2f}, val_loss : {:.2f}'.format(epoch + 1, avg_tr_loss, avg_val_loss))\n",
    "        checkpoint.save(file_prefix=checkpoint_prefix+'-epoch-{}-counter'.format(epoch + 1))"
   ]
  },
  {
   "cell_type": "code",
   "execution_count": 12,
   "metadata": {},
   "outputs": [
    {
     "data": {
      "text/plain": [
       "<matplotlib.legend.Legend at 0x7fab4dd1f320>"
      ]
     },
     "execution_count": 12,
     "metadata": {},
     "output_type": "execute_result"
    },
    {
     "data": {
      "image/png": "[encoded data removed]",
      "text/plain": [
       "<Figure size 432x288 with 1 Axes>"
      ]
     },
     "metadata": {
      "needs_background": "light"
     },
     "output_type": "display_data"
    }
   ],
   "source": [
    "plt.plot(tr_loss_hist, label = 'train')\n",
    "plt.plot(val_loss_hist, label = 'validation')\n",
    "plt.legend()"
   ]
  },
  {
   "cell_type": "code",
   "execution_count": 13,
   "metadata": {},
   "outputs": [
    {
     "name": "stdout",
     "output_type": "stream",
     "text": [
      "test acc: 92.57%\n"
     ]
    }
   ],
   "source": [
    "yhat = np.argmax(dnn.predict(x=x_tst), axis=-1)\n",
    "print('test acc: {:.2%}'.format(np.mean(yhat == y_tst)))"
   ]
  },
  {
   "cell_type": "code",
   "execution_count": 14,
   "metadata": {},
   "outputs": [],
   "source": [
    "del dnn"
   ]
  },
  {
   "cell_type": "markdown",
   "metadata": {},
   "source": [
    "### Restore model"
   ]
  },
  {
   "cell_type": "markdown",
   "metadata": {},
   "source": [
    "#### Example 1\n",
    "Restore my model at epoch 15\n",
    "* reference : https://www.tensorflow.org/guide/eager#object-based_saving"
   ]
  },
  {
   "cell_type": "code",
   "execution_count": 15,
   "metadata": {},
   "outputs": [
    {
     "data": {
      "text/plain": [
       "model_checkpoint_path: \"../graphs/lecture05/applied_example_wd_ke/dnn-epoch-15-counter-3\"\n",
       "all_model_checkpoint_paths: \"../graphs/lecture05/applied_example_wd_ke/dnn-epoch-15-counter-3\""
      ]
     },
     "execution_count": 15,
     "metadata": {},
     "output_type": "execute_result"
    }
   ],
   "source": [
    "tf.train.get_checkpoint_state(checkpoint_dir='../graphs/lecture05/applied_example_wd_ke/',)"
   ]
  },
  {
   "cell_type": "code",
   "execution_count": 16,
   "metadata": {},
   "outputs": [
    {
     "name": "stdout",
     "output_type": "stream",
     "text": [
      "test acc: 92.57%\n"
     ]
    }
   ],
   "source": [
    "# restore\n",
    "dnn = DNNClassifier(num_classes=10)\n",
    "\n",
    "checkpoint = tf.train.Checkpoint(dnn=dnn)\n",
    "checkpoint.restore(save_path=tf.train.latest_checkpoint('../graphs/lecture05/applied_example_wd_ke'))\n",
    "yhat = np.argmax(dnn.predict(x=x_tst), axis=-1)\n",
    "print('test acc: {:.2%}'.format(np.mean(yhat == y_tst)))"
   ]
  },
  {
   "cell_type": "code",
   "execution_count": 17,
   "metadata": {},
   "outputs": [],
   "source": [
    "del dnn"
   ]
  },
  {
   "cell_type": "markdown",
   "metadata": {},
   "source": [
    "#### Example 2\n",
    "Restore my model at epoch 10"
   ]
  },
  {
   "cell_type": "code",
   "execution_count": 18,
   "metadata": {},
   "outputs": [
    {
     "name": "stdout",
     "output_type": "stream",
     "text": [
      "test acc: 92.62%\n"
     ]
    }
   ],
   "source": [
    "# restore\n",
    "dnn = DNNClassifier(num_classes=10)\n",
    "\n",
    "checkpoint = tf.train.Checkpoint(dnn=dnn)\n",
    "checkpoint.restore(save_path='../graphs/lecture05/applied_example_wd_ke/dnn-epoch-10-counter-2')\n",
    "yhat = np.argmax(dnn.predict(x=x_tst), axis=-1)\n",
    "print('test acc: {:.2%}'.format(np.mean(yhat == y_tst)))"
   ]
  }
 ],
 "metadata": {
  "kernelspec": {
   "display_name": "Python 3",
   "language": "python",
   "name": "python3"
  },
  "language_info": {
   "codemirror_mode": {
    "name": "ipython",
    "version": 3
   },
   "file_extension": ".py",
   "mimetype": "text/x-python",
   "name": "python",
   "nbconvert_exporter": "python",
   "pygments_lexer": "ipython3",
   "version": "3.6.8"
  },
  "varInspector": {
   "cols": {
    "lenName": 16,
    "lenType": 16,
    "lenVar": 40
   },
   "kernels_config": {
    "python": {
     "delete_cmd_postfix": "",
     "delete_cmd_prefix": "del ",
     "library": "var_list.py",
     "varRefreshCmd": "print(var_dic_list())"
    },
    "r": {
     "delete_cmd_postfix": ") ",
     "delete_cmd_prefix": "rm(",
     "library": "var_list.r",
     "varRefreshCmd": "cat(var_dic_list()) "
    }
   },
   "types_to_exclude": [
    "module",
    "function",
    "builtin_function_or_method",
    "instance",
    "_Feature"
   ],
   "window_display": false
  }
 },
 "nbformat": 4,
 "nbformat_minor": 2
}
