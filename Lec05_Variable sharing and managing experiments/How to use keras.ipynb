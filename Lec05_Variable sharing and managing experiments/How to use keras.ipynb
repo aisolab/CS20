{
 "cells": [
  {
   "cell_type": "markdown",
   "metadata": {},
   "source": [
    "# How to simply use keras\n",
    "* Reference\n",
    "    + https://www.tensorflow.org/guide/keras"
   ]
  },
  {
   "cell_type": "markdown",
   "metadata": {},
   "source": [
    "## Setup"
   ]
  },
  {
   "cell_type": "code",
   "execution_count": 1,
   "metadata": {},
   "outputs": [
    {
     "name": "stdout",
     "output_type": "stream",
     "text": [
      "1.12.0\n",
      "2.1.6-tf\n"
     ]
    }
   ],
   "source": [
    "import numpy as np\n",
    "import tensorflow as tf\n",
    "\n",
    "keras = tf.keras\n",
    "\n",
    "print(tf.__version__)\n",
    "print(tf.keras.__version__)"
   ]
  },
  {
   "cell_type": "markdown",
   "metadata": {},
   "source": [
    "## Build a simple model\n",
    "### Sequential model\n",
    "In Keras, you assemble layers to build models. A model is (usually) a graph of layers. The most common type of model is a stack of layers: the `tf.keras.Sequential` model."
   ]
  },
  {
   "cell_type": "code",
   "execution_count": 2,
   "metadata": {},
   "outputs": [],
   "source": [
    "## To build a simple, fully-connected network (i.e. multi-layer perceptron)\n",
    "# If you specify the input shape, the model gets built continuously, as you are adding layers.\n",
    "# Note that when using this delayed-build pattern (no input shape specified),\n",
    "# the model doesn't have any weights until the first call,\n",
    "# to a training/evaluation method (since it isn't yet built)\n",
    "\n",
    "model = keras.Sequential()\n",
    "model.add(keras.layers.Dense(units = 64, activation = 'relu')) \n",
    "# or model.add(keras.layers.Dense(units = 64, activation = 'relu'))\n",
    "model.add(keras.layers.Dense(units = 64, activation = 'relu'))\n",
    "model.add(keras.layers.Dense(units = 10, activation = 'softmax'))"
   ]
  },
  {
   "cell_type": "code",
   "execution_count": 3,
   "metadata": {},
   "outputs": [
    {
     "name": "stdout",
     "output_type": "stream",
     "text": [
      "[]\n"
     ]
    }
   ],
   "source": [
    "print(tf.get_collection(tf.GraphKeys.GLOBAL_VARIABLES))"
   ]
  },
  {
   "cell_type": "markdown",
   "metadata": {},
   "source": [
    "### Configure the layers\n",
    "There are many tf.keras.layers available with some common constructor parameters:\n",
    "\n",
    "* `activation`: Set the activation function for the layer. This parameter is specified by the name of a built-in function or as a callable object. By default, no activation is applied.\n",
    "* `kernel_initializer` and `bias_initializer`: The initialization schemes that create the layer's weights (kernel and bias). This parameter is a name or a callable object. This defaults to the `\"Glorot uniform\"` initializer.\n",
    "* `kernel_regularizer` and `bias_regularizer`: The regularization schemes that apply the layer's weights (kernel and bias), such as L1 or L2 regularization. By default, no regularization is applied.  \n",
    "  \n",
    "The following instantiates `tf.keras.layers.Dense` layers using constructor arguments:"
   ]
  },
  {
   "cell_type": "code",
   "execution_count": 4,
   "metadata": {},
   "outputs": [
    {
     "data": {
      "text/plain": [
       "<tensorflow.python.keras.layers.core.Dense at 0x7f574c3a7668>"
      ]
     },
     "execution_count": 4,
     "metadata": {},
     "output_type": "execute_result"
    }
   ],
   "source": [
    "keras.backend.clear_session()\n",
    "tf.reset_default_graph()\n",
    "# Create a sigmoid layer:\n",
    "keras.layers.Dense(64, activation='sigmoid')\n",
    "# Or:\n",
    "keras.layers.Dense(64, activation=tf.sigmoid)\n",
    "\n",
    "# A linear layer with L1 regularization of factor 0.01 applied to the kernel matrix:\n",
    "keras.layers.Dense(64, kernel_regularizer=tf.keras.regularizers.l1(0.01))\n",
    "\n",
    "# A linear layer with L2 regularization of factor 0.01 applied to the bias vector:\n",
    "keras.layers.Dense(64, bias_regularizer=tf.keras.regularizers.l2(0.01))\n",
    "\n",
    "# A linear layer with a kernel initialized to a random orthogonal matrix:\n",
    "keras.layers.Dense(64, kernel_initializer='orthogonal')\n",
    "\n",
    "# A linear layer with a bias vector initialized to 2.0s:\n",
    "keras.layers.Dense(64, bias_initializer=tf.keras.initializers.constant(2.0))"
   ]
  },
  {
   "cell_type": "code",
   "execution_count": 5,
   "metadata": {},
   "outputs": [
    {
     "name": "stdout",
     "output_type": "stream",
     "text": [
      "[]\n"
     ]
    }
   ],
   "source": [
    "print(tf.get_collection(tf.GraphKeys.GLOBAL_VARIABLES))"
   ]
  },
  {
   "cell_type": "markdown",
   "metadata": {},
   "source": [
    "## Train and evaluate"
   ]
  },
  {
   "cell_type": "markdown",
   "metadata": {},
   "source": [
    "### Set up training\n",
    "After the model is constructed, configure its learning process by calling the `compile` method, `tf.keras.Model.compile` or `tf.keras.Sequential.compile` takes three important arguments.  \n",
    "  \n",
    "* `optimizer`: This object specifies the training procedure. Pass it optimizer instances from the `tf.train` module, such as `tf.train.AdamOptimizer`, `tf.train.RMSPropOptimizer`, or `tf.train.GradientDescentOptimizer`.\n",
    "* `loss`: The function to minimize during optimization. Common choices include mean square error (`mse`), `categorical_crossentropy`, and `binary_crossentropy`. Loss functions are specified by name or by passing a callable object from the `tf.keras.losses` module.\n",
    "* `metrics`: Used to monitor training. These are string names or callables from the `tf.keras.metrics` module."
   ]
  },
  {
   "cell_type": "code",
   "execution_count": 6,
   "metadata": {},
   "outputs": [
    {
     "name": "stdout",
     "output_type": "stream",
     "text": [
      "[<tf.Variable 'dense/kernel:0' shape=(32, 64) dtype=float32>, <tf.Variable 'dense/bias:0' shape=(64,) dtype=float32>, <tf.Variable 'dense_1/kernel:0' shape=(64, 64) dtype=float32>, <tf.Variable 'dense_1/bias:0' shape=(64,) dtype=float32>, <tf.Variable 'dense_2/kernel:0' shape=(64, 10) dtype=float32>, <tf.Variable 'dense_2/bias:0' shape=(10,) dtype=float32>]\n"
     ]
    }
   ],
   "source": [
    "keras.backend.clear_session()\n",
    "tf.reset_default_graph()\n",
    "\n",
    "model = keras.Sequential()\n",
    "model.add(keras.layers.Dense(units=64, activation='relu', input_shape = (32,)))\n",
    "model.add(keras.layers.Dense(units=64, activation='relu'))\n",
    "model.add(keras.layers.Dense(units=10, activation='softmax'))\n",
    "\n",
    "print(tf.get_collection(tf.GraphKeys.GLOBAL_VARIABLES))"
   ]
  },
  {
   "cell_type": "code",
   "execution_count": 7,
   "metadata": {},
   "outputs": [
    {
     "name": "stdout",
     "output_type": "stream",
     "text": [
      "[<tf.Variable 'dense/kernel:0' shape=(32, 64) dtype=float32>, <tf.Variable 'dense/bias:0' shape=(64,) dtype=float32>, <tf.Variable 'dense_1/kernel:0' shape=(64, 64) dtype=float32>, <tf.Variable 'dense_1/bias:0' shape=(64,) dtype=float32>, <tf.Variable 'dense_2/kernel:0' shape=(64, 10) dtype=float32>, <tf.Variable 'dense_2/bias:0' shape=(10,) dtype=float32>, <tf.Variable 'TFOptimizer/iterations:0' shape=() dtype=int64>]\n"
     ]
    }
   ],
   "source": [
    "# Compile\n",
    "model.compile(optimizer=tf.train.AdamOptimizer(0.001),\n",
    "              loss='categorical_crossentropy',\n",
    "              metrics=['accuracy'])\n",
    "\n",
    "print(tf.get_collection(tf.GraphKeys.GLOBAL_VARIABLES))"
   ]
  },
  {
   "cell_type": "markdown",
   "metadata": {},
   "source": [
    "The following shows a few examples of configuring a model for training:"
   ]
  },
  {
   "cell_type": "code",
   "execution_count": 8,
   "metadata": {},
   "outputs": [],
   "source": [
    "# Configure a model for mean-squared error regression.\n",
    "model.compile(optimizer=tf.train.AdamOptimizer(0.01),\n",
    "              loss='mse',       # mean squared error\n",
    "              metrics=['mae'])  # mean absolute error\n",
    "\n",
    "# Configure a model for categorical classification.\n",
    "model.compile(optimizer=tf.train.RMSPropOptimizer(0.01),\n",
    "              loss=keras.losses.categorical_crossentropy,\n",
    "              metrics=[keras.metrics.categorical_accuracy])"
   ]
  },
  {
   "cell_type": "markdown",
   "metadata": {},
   "source": [
    "### Input NumPy data"
   ]
  },
  {
   "cell_type": "code",
   "execution_count": 9,
   "metadata": {},
   "outputs": [
    {
     "name": "stdout",
     "output_type": "stream",
     "text": [
      "float64 int64\n"
     ]
    }
   ],
   "source": [
    "keras.backend.clear_session()\n",
    "tf.reset_default_graph()\n",
    "\n",
    "# Numpy dataset\n",
    "tr_data = np.random.random((1000, 32))\n",
    "tr_label = np.random.randint(low=0, high=10, size = 1000)\n",
    "\n",
    "val_data = np.random.random((100, 32))\n",
    "val_label = np.random.randint(low=0, high=10, size = 100)\n",
    "\n",
    "tst_data = np.random.random((100, 32))\n",
    "tst_label = np.random.randint(low=0, high=10, size = 100)\n",
    "\n",
    "print(tr_data.dtype, tr_label.dtype)"
   ]
  },
  {
   "cell_type": "code",
   "execution_count": 10,
   "metadata": {},
   "outputs": [
    {
     "name": "stdout",
     "output_type": "stream",
     "text": [
      "[]\n"
     ]
    }
   ],
   "source": [
    "# Create a model\n",
    "model = keras.Sequential()\n",
    "model.add(keras.layers.Dense(units=64, activation='relu'))\n",
    "model.add(keras.layers.Dense(units=64, activation='relu'))\n",
    "model.add(keras.layers.Dense(units=10, activation='softmax'))\n",
    "print(tf.get_collection(tf.GraphKeys.TRAINABLE_VARIABLES))"
   ]
  },
  {
   "cell_type": "code",
   "execution_count": 11,
   "metadata": {},
   "outputs": [
    {
     "name": "stdout",
     "output_type": "stream",
     "text": [
      "[<tf.Variable 'TFOptimizer/iterations:0' shape=() dtype=int64>]\n",
      "Train on 1000 samples, validate on 100 samples\n",
      "Epoch 1/5\n",
      "1000/1000 [==============================] - 1s 644us/step - loss: 2.3531 - acc: 0.1030 - val_loss: 2.3664 - val_acc: 0.0700\n",
      "Epoch 2/5\n",
      "1000/1000 [==============================] - 0s 40us/step - loss: 2.3258 - acc: 0.1020 - val_loss: 2.3476 - val_acc: 0.0900\n",
      "Epoch 3/5\n",
      "1000/1000 [==============================] - 0s 41us/step - loss: 2.3128 - acc: 0.0950 - val_loss: 2.3410 - val_acc: 0.0700\n",
      "Epoch 4/5\n",
      "1000/1000 [==============================] - 0s 40us/step - loss: 2.3069 - acc: 0.1030 - val_loss: 2.3368 - val_acc: 0.0700\n",
      "Epoch 5/5\n",
      "1000/1000 [==============================] - 0s 49us/step - loss: 2.3027 - acc: 0.1040 - val_loss: 2.3348 - val_acc: 0.0700\n"
     ]
    },
    {
     "data": {
      "text/plain": [
       "<tensorflow.python.keras.callbacks.History at 0x7f5749761208>"
      ]
     },
     "execution_count": 11,
     "metadata": {},
     "output_type": "execute_result"
    }
   ],
   "source": [
    "model.compile(optimizer=tf.train.GradientDescentOptimizer(.01), \n",
    "              loss=keras.losses.sparse_categorical_crossentropy,\n",
    "              metrics=['accuracy'])\n",
    "print(tf.get_collection(tf.GraphKeys.TRAINABLE_VARIABLES))\n",
    "\n",
    "model.fit(x=tr_data, y=tr_label, epochs=5, batch_size=32, validation_data=(val_data, val_label))"
   ]
  },
  {
   "cell_type": "code",
   "execution_count": 12,
   "metadata": {},
   "outputs": [
    {
     "name": "stdout",
     "output_type": "stream",
     "text": [
      "[<tf.Variable 'TFOptimizer/iterations:0' shape=() dtype=int64>, <tf.Variable 'dense/kernel:0' shape=(32, 64) dtype=float32>, <tf.Variable 'dense/bias:0' shape=(64,) dtype=float32>, <tf.Variable 'dense_1/kernel:0' shape=(64, 64) dtype=float32>, <tf.Variable 'dense_1/bias:0' shape=(64,) dtype=float32>, <tf.Variable 'dense_2/kernel:0' shape=(64, 10) dtype=float32>, <tf.Variable 'dense_2/bias:0' shape=(10,) dtype=float32>]\n"
     ]
    }
   ],
   "source": [
    "print(tf.get_collection(tf.GraphKeys.TRAINABLE_VARIABLES))"
   ]
  },
  {
   "cell_type": "code",
   "execution_count": 13,
   "metadata": {},
   "outputs": [
    {
     "name": "stdout",
     "output_type": "stream",
     "text": [
      "['loss', 'acc']\n",
      "100/100 [==============================] - 0s 56us/step\n",
      "[2.3359627723693848, 0.06]\n",
      "(100, 10)\n"
     ]
    }
   ],
   "source": [
    "# Evaluate and predict\n",
    "print(model.metrics_names)\n",
    "print(model.evaluate(x=tst_data, y=tst_label))\n",
    "print(model.predict(x=tst_data).shape)"
   ]
  },
  {
   "cell_type": "markdown",
   "metadata": {},
   "source": [
    "### Input tf.data datasets\n",
    "Pass a `tf.data.Dataset` instance to the `fit`, `evaluate`, `predict` method."
   ]
  },
  {
   "cell_type": "code",
   "execution_count": 14,
   "metadata": {},
   "outputs": [
    {
     "name": "stdout",
     "output_type": "stream",
     "text": [
      "[]\n",
      "[]\n"
     ]
    }
   ],
   "source": [
    "keras.backend.clear_session() # very important!\n",
    "tf.reset_default_graph()\n",
    "\n",
    "print(tf.get_default_graph().get_operations())\n",
    "print(tf.get_collection(tf.GraphKeys.GLOBAL_VARIABLES))"
   ]
  },
  {
   "cell_type": "code",
   "execution_count": 15,
   "metadata": {},
   "outputs": [
    {
     "name": "stdout",
     "output_type": "stream",
     "text": [
      "(tf.float32, tf.int64)\n"
     ]
    }
   ],
   "source": [
    "# tf.data.Dataset instance\n",
    "tr_data = np.random.random((1000, 32)).astype(np.float32)\n",
    "tr_label = np.random.randint(low=0, high=10, size = 1000)\n",
    "tr_dataset = tf.data.Dataset.from_tensor_slices((tr_data, tr_label))\n",
    "tr_dataset = tr_dataset.batch(batch_size=32)\n",
    "tr_dataset = tr_dataset.repeat()\n",
    "\n",
    "val_data = np.random.random((100, 32)).astype(np.float32)\n",
    "val_label = np.random.randint(low=0, high=10, size = 100)\n",
    "val_dataset = tf.data.Dataset.from_tensor_slices((val_data, val_label))\n",
    "val_dataset = val_dataset.batch(batch_size=100).repeat()\n",
    "\n",
    "tst_data = np.random.random((100, 32)).astype(np.float32)\n",
    "tst_label = np.random.randint(low=0, high=10, size = 100)\n",
    "tst_dataset = tf.data.Dataset.from_tensor_slices((tst_data, tst_label))\n",
    "tst_dataset = tst_dataset.batch(batch_size=100)\n",
    "\n",
    "print(tr_dataset.output_types)"
   ]
  },
  {
   "cell_type": "code",
   "execution_count": 16,
   "metadata": {},
   "outputs": [
    {
     "name": "stdout",
     "output_type": "stream",
     "text": [
      "Epoch 1/5\n",
      "31/31 [==============================] - 0s 3ms/step - loss: 2.3285 - acc: 0.1865 - val_loss: 2.3348 - val_acc: 0.0000e+00\n",
      "Epoch 2/5\n",
      "31/31 [==============================] - 0s 1ms/step - loss: 2.3120 - acc: 0.1794 - val_loss: 2.3027 - val_acc: 0.0000e+00\n",
      "Epoch 3/5\n",
      "31/31 [==============================] - 0s 1ms/step - loss: 2.3049 - acc: 0.1724 - val_loss: 2.2856 - val_acc: 0.0000e+00\n",
      "Epoch 4/5\n",
      "31/31 [==============================] - 0s 1ms/step - loss: 2.3009 - acc: 0.1583 - val_loss: 2.2753 - val_acc: 0.0000e+00\n",
      "Epoch 5/5\n",
      "31/31 [==============================] - 0s 1ms/step - loss: 2.2982 - acc: 0.1492 - val_loss: 2.2705 - val_acc: 0.0000e+00\n"
     ]
    },
    {
     "data": {
      "text/plain": [
       "<tensorflow.python.keras.callbacks.History at 0x7f574a23ca90>"
      ]
     },
     "execution_count": 16,
     "metadata": {},
     "output_type": "execute_result"
    }
   ],
   "source": [
    "# Training\n",
    "model = keras.Sequential()\n",
    "model.add(keras.layers.Dense(units=64, activation='relu'))\n",
    "model.add(keras.layers.Dense(units=64, activation='relu'))\n",
    "model.add(keras.layers.Dense(units=10, activation='softmax'))\n",
    "model.compile(optimizer=tf.train.GradientDescentOptimizer(.01), \n",
    "              loss=keras.losses.sparse_categorical_crossentropy,\n",
    "              metrics=['accuracy'])\n",
    "\n",
    "model.fit(tr_dataset, epochs = 5, steps_per_epoch = 1000 // 32,\n",
    "          validation_data = val_dataset, validation_steps = 1)"
   ]
  },
  {
   "cell_type": "code",
   "execution_count": 17,
   "metadata": {},
   "outputs": [
    {
     "name": "stdout",
     "output_type": "stream",
     "text": [
      "['loss', 'acc']\n",
      "1/1 [==============================] - 0s 887us/step\n",
      "[2.302539587020874, 0.21875]\n",
      "(32, 10)\n"
     ]
    }
   ],
   "source": [
    "# Evaluate and predict\n",
    "print(model.metrics_names)\n",
    "print(model.evaluate(tst_dataset, steps = 1))\n",
    "print(model.predict(tst_dataset, steps = 1).shape)"
   ]
  },
  {
   "cell_type": "markdown",
   "metadata": {},
   "source": [
    "## Build advanced models"
   ]
  },
  {
   "cell_type": "markdown",
   "metadata": {},
   "source": [
    "### Functional API\n",
    "The `tf.keras.Sequential` model is a simple stack of layers that cannot represent arbitrary models. Use the Keras functional API to build complex model topologies such as:\n",
    "\n",
    "* Multi-input models,\n",
    "* Multi-output models,\n",
    "* Models with shared layers (the same layer called several times),\n",
    "* Models with non-sequential data flows (e.g. residual connections).  \n",
    "\n",
    "Building a model with the functional API works like this:  \n",
    "\n",
    "1. A layer instance is callable and returns a tensor.\n",
    "2. Input tensors and output tensors are used to define a `tf.keras.Model` instance.\n",
    "3. This model is trained just like the `Sequential` model.  \n",
    "\n",
    "The following example uses the functional API to build a simple, fully-connected network:"
   ]
  },
  {
   "cell_type": "code",
   "execution_count": 18,
   "metadata": {},
   "outputs": [],
   "source": [
    "# Clear\n",
    "keras.backend.clear_session()\n",
    "tf.reset_default_graph()"
   ]
  },
  {
   "cell_type": "code",
   "execution_count": 19,
   "metadata": {},
   "outputs": [
    {
     "name": "stdout",
     "output_type": "stream",
     "text": [
      "(tf.float32, tf.int32)\n",
      "Tensor(\"input_1:0\", shape=(?, 32), dtype=float32) <class 'tensorflow.python.framework.ops.Tensor'>\n",
      "Epoch 1/5\n",
      "31/31 [==============================] - 0s 4ms/step - loss: 2.3773 - acc: 0.0958\n",
      "Epoch 2/5\n",
      "31/31 [==============================] - 0s 1ms/step - loss: 2.3450 - acc: 0.0917\n",
      "Epoch 3/5\n",
      "31/31 [==============================] - 0s 1ms/step - loss: 2.3238 - acc: 0.0917\n",
      "Epoch 4/5\n",
      "31/31 [==============================] - 0s 1ms/step - loss: 2.3140 - acc: 0.1028\n",
      "Epoch 5/5\n",
      "31/31 [==============================] - 0s 2ms/step - loss: 2.3030 - acc: 0.1069\n"
     ]
    },
    {
     "data": {
      "text/plain": [
       "<tensorflow.python.keras.callbacks.History at 0x7f574843f438>"
      ]
     },
     "execution_count": 19,
     "metadata": {},
     "output_type": "execute_result"
    }
   ],
   "source": [
    "data = np.random.random((1000, 32)).astype(np.float32)\n",
    "label = np.random.randint(low=0, high=10, size = 1000).astype(np.int32)\n",
    "dataset = tf.data.Dataset.from_tensor_slices((data, label))\n",
    "dataset = dataset.batch(batch_size=32).repeat()\n",
    "print(dataset.output_types)\n",
    "\n",
    "inputs = tf.keras.Input(shape=(32,))  # Returns a placeholder tensor\n",
    "print(inputs, type(inputs))\n",
    "\n",
    "# A layer instance is callable on a tensor, and returns a tensor.\n",
    "x = keras.layers.Dense(64, activation='relu')(inputs)\n",
    "x = keras.layers.Dense(64, activation='relu')(x)\n",
    "predictions = keras.layers.Dense(10, activation='softmax')(x)\n",
    "\n",
    "# Instantiate the model given inputs and outputs\n",
    "model = keras.Model(inputs = inputs, outputs = predictions)\n",
    "\n",
    "# The compile step specifies the training configuration.\n",
    "model.compile(optimizer=tf.train.RMSPropOptimizer(.001),\n",
    "              loss=keras.losses.sparse_categorical_crossentropy,\n",
    "              metrics=['accuracy'])\n",
    "\n",
    "# Trains for 5 epochs\n",
    "model.fit(dataset, epochs=5, steps_per_epoch = 1000//32)"
   ]
  },
  {
   "cell_type": "markdown",
   "metadata": {},
   "source": [
    "### Model subclassing\n",
    "Build a fully-customizable model by subclassing `tf.keras.Model` and defining your own forward pass. Create layers in the `__init__` method and set them as attributes of the class instance. Define the forward pass in the call method.\n",
    "\n",
    "Model subclassing is particularly useful when eager execution is enabled since the forward pass can be written imperatively."
   ]
  },
  {
   "cell_type": "code",
   "execution_count": 20,
   "metadata": {},
   "outputs": [
    {
     "name": "stdout",
     "output_type": "stream",
     "text": [
      "[]\n",
      "[]\n"
     ]
    }
   ],
   "source": [
    "# Clear\n",
    "keras.backend.clear_session()\n",
    "tf.reset_default_graph()\n",
    "\n",
    "print(tf.get_default_graph().get_operations())\n",
    "print(tf.get_collection(tf.GraphKeys.GLOBAL_VARIABLES))"
   ]
  },
  {
   "cell_type": "code",
   "execution_count": 21,
   "metadata": {},
   "outputs": [],
   "source": [
    "# Subclassing tf.keras.Model\n",
    "class MLP(keras.Model):\n",
    "    def __init__(self, hidden_dim, num_classes):\n",
    "        super(MLP, self).__init__()\n",
    "        # Define your layers here.\n",
    "        self.hidden_layer = keras.layers.Dense(units = hidden_dim, activation='relu')\n",
    "        self.output_layer = keras.layers.Dense(units = num_classes, activation='softmax')\n",
    "        \n",
    "    def call(self, inputs):\n",
    "        hidden = self.hidden_layer(inputs)\n",
    "        score = self.output_layer(hidden)\n",
    "        return score\n",
    "    \n",
    "# Instantiate the MLP class\n",
    "mlp = MLP(hidden_dim=100, num_classes=10)\n",
    "\n",
    "# The compile step specifies the training configuration.\n",
    "mlp.compile(optimizer=tf.train.RMSPropOptimizer(.001),\n",
    "            loss=keras.losses.sparse_categorical_crossentropy,\n",
    "            metrics=['accuracy'])"
   ]
  },
  {
   "cell_type": "code",
   "execution_count": 22,
   "metadata": {},
   "outputs": [
    {
     "name": "stdout",
     "output_type": "stream",
     "text": [
      "(tf.float32, tf.int64)\n"
     ]
    }
   ],
   "source": [
    "# tf.data.Dataset instance\n",
    "tr_data = np.random.random((1000, 32)).astype(np.float32)\n",
    "tr_label = np.random.randint(low=0, high=10, size = 1000)\n",
    "tr_dataset = tf.data.Dataset.from_tensor_slices((tr_data, tr_label))\n",
    "tr_dataset = tr_dataset.batch(batch_size=32)\n",
    "tr_dataset = tr_dataset.repeat()\n",
    "\n",
    "val_data = np.random.random((100, 32)).astype(np.float32)\n",
    "val_label = np.random.randint(low=0, high=10, size = 100)\n",
    "val_dataset = tf.data.Dataset.from_tensor_slices((val_data, val_label))\n",
    "val_dataset = val_dataset.batch(batch_size=100).repeat()\n",
    "\n",
    "tst_data = np.random.random((100, 32)).astype(np.float32)\n",
    "tst_label = np.random.randint(low=0, high=10, size = 100)\n",
    "tst_dataset = tf.data.Dataset.from_tensor_slices((tst_data, tst_label))\n",
    "tst_dataset = tst_dataset.batch(batch_size=100)\n",
    "\n",
    "print(tr_dataset.output_types)"
   ]
  },
  {
   "cell_type": "code",
   "execution_count": 23,
   "metadata": {},
   "outputs": [
    {
     "name": "stdout",
     "output_type": "stream",
     "text": [
      "Epoch 1/5\n",
      "31/31 [==============================] - 0s 3ms/step - loss: 2.3903 - acc: 0.0000e+00 - val_loss: 2.5355 - val_acc: 0.0000e+00\n",
      "Epoch 2/5\n",
      "31/31 [==============================] - 0s 1ms/step - loss: 2.3593 - acc: 0.0020 - val_loss: 2.4501 - val_acc: 0.0000e+00\n",
      "Epoch 3/5\n",
      "31/31 [==============================] - 0s 1ms/step - loss: 2.3239 - acc: 0.0383 - val_loss: 2.3684 - val_acc: 0.0000e+00\n",
      "Epoch 4/5\n",
      "31/31 [==============================] - 0s 1ms/step - loss: 2.3096 - acc: 0.1401 - val_loss: 2.3465 - val_acc: 0.0000e+00\n",
      "Epoch 5/5\n",
      "31/31 [==============================] - 0s 1ms/step - loss: 2.2976 - acc: 0.1835 - val_loss: 2.3411 - val_acc: 0.0000e+00\n"
     ]
    },
    {
     "data": {
      "text/plain": [
       "<tensorflow.python.keras.callbacks.History at 0x7f574a064470>"
      ]
     },
     "execution_count": 23,
     "metadata": {},
     "output_type": "execute_result"
    }
   ],
   "source": [
    "# Trains for 5 epochs\n",
    "mlp.fit(tr_dataset, epochs=5, steps_per_epoch=1000//32, validation_data = val_dataset, validation_steps=1)"
   ]
  },
  {
   "cell_type": "markdown",
   "metadata": {},
   "source": [
    "### Custom layers\n",
    "Reading https://www.tensorflow.org/guide/keras?hl=ko#custom_layers"
   ]
  },
  {
   "cell_type": "markdown",
   "metadata": {},
   "source": [
    "## Callbacks\n",
    "A callback is an object passed to a model to customize and extend its behavior during training. You can write your own custom callback, or use the built-in `tf.keras.callbacks` that include:\n",
    "\n",
    "* `tf.keras.callbacks.ModelCheckpoint`: Save checkpoints of your model at regular intervals.\n",
    "* `tf.keras.callbacks.LearningRateScheduler`: Dynamically change the learning rate.\n",
    "* `tf.keras.callbacks.EarlyStopping`: Interrupt training when validation performance has stopped improving.\n",
    "* `tf.keras.callbacks.TensorBoard`: Monitor the model's behavior using TensorBoard.  \n",
    "\n",
    "To use a `tf.keras.callbacks.Callback`, pass it to the model's `fit` method:"
   ]
  },
  {
   "cell_type": "code",
   "execution_count": 24,
   "metadata": {},
   "outputs": [
    {
     "name": "stdout",
     "output_type": "stream",
     "text": [
      "[]\n",
      "[]\n"
     ]
    }
   ],
   "source": [
    "# Clear\n",
    "keras.backend.clear_session()\n",
    "tf.reset_default_graph()\n",
    "\n",
    "print(tf.get_default_graph().get_operations())\n",
    "print(tf.get_collection(tf.GraphKeys.GLOBAL_VARIABLES))"
   ]
  },
  {
   "cell_type": "code",
   "execution_count": 25,
   "metadata": {},
   "outputs": [
    {
     "name": "stdout",
     "output_type": "stream",
     "text": [
      "(tf.float32, tf.int64)\n"
     ]
    }
   ],
   "source": [
    "# tf.data.Dataset instance\n",
    "tr_data = np.random.random((1000, 32)).astype(np.float32)\n",
    "tr_label = np.random.randint(low=0, high=10, size = 1000)\n",
    "tr_dataset = tf.data.Dataset.from_tensor_slices((tr_data, tr_label))\n",
    "tr_dataset = tr_dataset.batch(batch_size=32)\n",
    "tr_dataset = tr_dataset.repeat()\n",
    "\n",
    "val_data = np.random.random((100, 32)).astype(np.float32)\n",
    "val_label = np.random.randint(low=0, high=10, size = 100)\n",
    "val_dataset = tf.data.Dataset.from_tensor_slices((val_data, val_label))\n",
    "val_dataset = val_dataset.batch(batch_size=100).repeat()\n",
    "\n",
    "tst_data = np.random.random((100, 32)).astype(np.float32)\n",
    "tst_label = np.random.randint(low=0, high=10, size = 100)\n",
    "tst_dataset = tf.data.Dataset.from_tensor_slices((tst_data, tst_label))\n",
    "tst_dataset = tst_dataset.batch(batch_size=100)\n",
    "\n",
    "print(tr_dataset.output_types)"
   ]
  },
  {
   "cell_type": "code",
   "execution_count": 26,
   "metadata": {},
   "outputs": [
    {
     "name": "stdout",
     "output_type": "stream",
     "text": [
      "Epoch 1/5\n",
      "31/31 [==============================] - 0s 3ms/step - loss: 2.3471 - acc: 0.0020 - val_loss: 2.3002 - val_acc: 0.0000e+00\n",
      "Epoch 2/5\n",
      "31/31 [==============================] - 0s 1ms/step - loss: 2.3285 - acc: 0.0040 - val_loss: 2.2775 - val_acc: 0.0000e+00\n",
      "Epoch 3/5\n",
      "31/31 [==============================] - 0s 1ms/step - loss: 2.3192 - acc: 0.0040 - val_loss: 2.2651 - val_acc: 0.0000e+00\n",
      "Epoch 4/5\n",
      "31/31 [==============================] - 0s 1ms/step - loss: 2.3137 - acc: 0.0040 - val_loss: 2.2580 - val_acc: 0.0000e+00\n",
      "Epoch 5/5\n",
      "31/31 [==============================] - 0s 1ms/step - loss: 2.3101 - acc: 0.0060 - val_loss: 2.2533 - val_acc: 0.0000e+00\n"
     ]
    },
    {
     "data": {
      "text/plain": [
       "<tensorflow.python.keras.callbacks.History at 0x7f5730677240>"
      ]
     },
     "execution_count": 26,
     "metadata": {},
     "output_type": "execute_result"
    }
   ],
   "source": [
    "# Creating \"callback\" object\n",
    "callbacks = [\n",
    "  # Interrupt training if `val_loss` stops improving for over 2 epochs\n",
    "  keras.callbacks.EarlyStopping(patience=2, monitor='val_loss'),\n",
    "  # Write TensorBoard logs to `./logs` directory\n",
    "  keras.callbacks.TensorBoard(log_dir='./logs')\n",
    "]\n",
    "\n",
    "# Training\n",
    "model = keras.Sequential()\n",
    "model.add(keras.layers.Dense(units=64, activation='relu'))\n",
    "model.add(keras.layers.Dense(units=64, activation='relu'))\n",
    "model.add(keras.layers.Dense(units=10, activation='softmax'))\n",
    "model.compile(optimizer=tf.train.GradientDescentOptimizer(.01), \n",
    "              loss=keras.losses.sparse_categorical_crossentropy,\n",
    "              metrics=['accuracy'], callbacks = callbacks)\n",
    "\n",
    "model.fit(tr_dataset, epochs = 5, steps_per_epoch = 1000 // 32,\n",
    "          validation_data = val_dataset, validation_steps = 1)"
   ]
  },
  {
   "cell_type": "markdown",
   "metadata": {},
   "source": [
    "## Save and restore\n",
    "To be modified"
   ]
  },
  {
   "cell_type": "markdown",
   "metadata": {},
   "source": [
    "### Weights only\n",
    "Save and load the weights of a model using `tf.keras.Model.save_weights`:"
   ]
  },
  {
   "cell_type": "code",
   "execution_count": 27,
   "metadata": {},
   "outputs": [
    {
     "name": "stdout",
     "output_type": "stream",
     "text": [
      "[]\n",
      "[]\n"
     ]
    }
   ],
   "source": [
    "# Clear\n",
    "keras.backend.clear_session()\n",
    "tf.reset_default_graph()\n",
    "\n",
    "print(tf.get_default_graph().get_operations())\n",
    "print(tf.get_collection(tf.GraphKeys.GLOBAL_VARIABLES))"
   ]
  },
  {
   "cell_type": "code",
   "execution_count": 28,
   "metadata": {},
   "outputs": [],
   "source": [
    "# Subclassing tf.keras.Model\n",
    "class MLP(keras.Model):\n",
    "    def __init__(self, hidden_dim, num_classes):\n",
    "        super(MLP, self).__init__()\n",
    "        # Define your layers here.\n",
    "        self.hidden_layer = keras.layers.Dense(units = hidden_dim, activation='relu')\n",
    "        self.output_layer = keras.layers.Dense(units = num_classes, activation='softmax')\n",
    "        \n",
    "    def call(self, inputs):\n",
    "        hidden = self.hidden_layer(inputs)\n",
    "        score = self.output_layer(hidden)\n",
    "        return score\n",
    "    \n",
    "# Instantiate the MLP class\n",
    "mlp = MLP(hidden_dim=100, num_classes=10)\n",
    "\n",
    "# The compile step specifies the training configuration.\n",
    "mlp.compile(optimizer=tf.train.RMSPropOptimizer(.001),\n",
    "            loss=keras.losses.sparse_categorical_crossentropy,\n",
    "            metrics=['accuracy'])"
   ]
  },
  {
   "cell_type": "code",
   "execution_count": 29,
   "metadata": {},
   "outputs": [
    {
     "name": "stdout",
     "output_type": "stream",
     "text": [
      "(tf.float32, tf.int64)\n",
      "(tf.float32, tf.int64)\n"
     ]
    }
   ],
   "source": [
    "# tf.data.Dataset instance\n",
    "tr_data = np.random.random((1000, 32)).astype(np.float32)\n",
    "tr_label = np.random.randint(low=0, high=10, size = 1000)\n",
    "tr_dataset = tf.data.Dataset.from_tensor_slices((tr_data, tr_label))\n",
    "tr_dataset = tr_dataset.batch(batch_size=32)\n",
    "tr_dataset = tr_dataset.repeat()\n",
    "\n",
    "val_data = np.random.random((100, 32)).astype(np.float32)\n",
    "val_label = np.random.randint(low=0, high=10, size = 100)\n",
    "val_dataset = tf.data.Dataset.from_tensor_slices((val_data, val_label))\n",
    "val_dataset = val_dataset.batch(batch_size=100).repeat()\n",
    "\n",
    "tst_data = np.ones((100,32), dtype=np.float32)\n",
    "tst_label = np.ones((100,), dtype=np.int64)\n",
    "tst_dataset = tf.data.Dataset.from_tensor_slices((tst_data, tst_label))\n",
    "tst_dataset = tst_dataset.batch(batch_size=100)\n",
    "\n",
    "print(tr_dataset.output_types)\n",
    "print(tst_dataset.output_types)"
   ]
  },
  {
   "cell_type": "code",
   "execution_count": 30,
   "metadata": {},
   "outputs": [
    {
     "name": "stdout",
     "output_type": "stream",
     "text": [
      "Epoch 1/5\n",
      "31/31 [==============================] - 0s 4ms/step - loss: 2.3604 - acc: 0.0010 - val_loss: 2.3443 - val_acc: 0.0000e+00\n",
      "Epoch 2/5\n",
      "31/31 [==============================] - 0s 1ms/step - loss: 2.3436 - acc: 0.0091 - val_loss: 2.3313 - val_acc: 0.0000e+00\n",
      "Epoch 3/5\n",
      "31/31 [==============================] - 0s 1ms/step - loss: 2.3231 - acc: 0.0262 - val_loss: 2.3315 - val_acc: 0.0000e+00\n",
      "Epoch 4/5\n",
      "31/31 [==============================] - 0s 1ms/step - loss: 2.3125 - acc: 0.0111 - val_loss: 2.3399 - val_acc: 0.0000e+00\n",
      "Epoch 5/5\n",
      "31/31 [==============================] - 0s 1ms/step - loss: 2.3022 - acc: 0.0060 - val_loss: 2.3443 - val_acc: 0.0000e+00\n",
      "1/1 [==============================] - 0s 870us/step\n",
      "[2.311108112335205, 0.0]\n"
     ]
    }
   ],
   "source": [
    "# Trains for 5 epochs\n",
    "mlp.fit(tr_dataset, epochs=5, steps_per_epoch=1000//32,\n",
    "        validation_data=val_dataset, validation_steps=1)\n",
    "print(mlp.evaluate(tst_dataset, steps=1))\n",
    "# Save weights to a HDF5 file\n",
    "mlp.save_weights('./weights/mlp')"
   ]
  },
  {
   "cell_type": "code",
   "execution_count": 31,
   "metadata": {},
   "outputs": [
    {
     "name": "stdout",
     "output_type": "stream",
     "text": [
      "[]\n",
      "[]\n"
     ]
    }
   ],
   "source": [
    "# Clear\n",
    "keras.backend.clear_session()\n",
    "tf.reset_default_graph()\n",
    "\n",
    "print(tf.get_default_graph().get_operations())\n",
    "print(tf.get_collection(tf.GraphKeys.GLOBAL_VARIABLES))"
   ]
  },
  {
   "cell_type": "code",
   "execution_count": 32,
   "metadata": {},
   "outputs": [],
   "source": [
    "tst_data = np.ones((100,32), dtype=np.float32)\n",
    "tst_label = np.ones((100,), dtype=np.int64)\n",
    "tst_dataset = tf.data.Dataset.from_tensor_slices((tst_data, tst_label))\n",
    "tst_dataset = tst_dataset.batch(batch_size=100)"
   ]
  },
  {
   "cell_type": "code",
   "execution_count": 33,
   "metadata": {},
   "outputs": [],
   "source": [
    "# Instantiate the MLP class\n",
    "test_model = MLP(hidden_dim=100, num_classes=10)\n",
    "# The compile step specifies the training configuration.\n",
    "test_model.compile(optimizer=tf.train.RMSPropOptimizer(.001),\n",
    "            loss=keras.losses.sparse_categorical_crossentropy,\n",
    "            metrics=['accuracy'])"
   ]
  },
  {
   "cell_type": "code",
   "execution_count": 34,
   "metadata": {},
   "outputs": [
    {
     "data": {
      "text/plain": [
       "<tensorflow.python.training.checkpointable.util.CheckpointLoadStatus at 0x7f574a2aa7b8>"
      ]
     },
     "execution_count": 34,
     "metadata": {},
     "output_type": "execute_result"
    }
   ],
   "source": [
    "test_model.load_weights('./weights/mlp')"
   ]
  },
  {
   "cell_type": "code",
   "execution_count": 35,
   "metadata": {},
   "outputs": [
    {
     "name": "stdout",
     "output_type": "stream",
     "text": [
      "\r",
      "1/1 [==============================] - 0s 17ms/step\n"
     ]
    },
    {
     "data": {
      "text/plain": [
       "[2.1389548778533936, 0.0]"
      ]
     },
     "execution_count": 35,
     "metadata": {},
     "output_type": "execute_result"
    }
   ],
   "source": [
    "test_model.evaluate(tst_dataset, steps = 1)"
   ]
  },
  {
   "cell_type": "markdown",
   "metadata": {},
   "source": [
    "### Configuration only\n",
    "Reading https://www.tensorflow.org/guide/keras?hl=ko#configuration_only"
   ]
  },
  {
   "cell_type": "markdown",
   "metadata": {},
   "source": [
    "### Entire model\n",
    "Reading https://www.tensorflow.org/guide/keras?hl=ko#entire_model"
   ]
  },
  {
   "cell_type": "markdown",
   "metadata": {},
   "source": [
    "## Eager execution\n",
    "Reading https://www.tensorflow.org/guide/keras?hl=ko#eager_execution"
   ]
  },
  {
   "cell_type": "markdown",
   "metadata": {},
   "source": [
    "## Distribution\n",
    "Reading https://www.tensorflow.org/guide/keras?hl=ko#distribution"
   ]
  }
 ],
 "metadata": {
  "kernelspec": {
   "display_name": "Python 3",
   "language": "python",
   "name": "python3"
  },
  "language_info": {
   "codemirror_mode": {
    "name": "ipython",
    "version": 3
   },
   "file_extension": ".py",
   "mimetype": "text/x-python",
   "name": "python",
   "nbconvert_exporter": "python",
   "pygments_lexer": "ipython3",
   "version": "3.6.6"
  }
 },
 "nbformat": 4,
 "nbformat_minor": 2
}
