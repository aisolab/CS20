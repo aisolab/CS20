{
 "cells": [
  {
   "cell_type": "markdown",
   "metadata": {},
   "source": [
    "# CS 20 : TensorFlow for Deep Learning Research\n",
    "## Lecture 05 : Variable sharing and managing experiments\n",
    "### Word2vec (skip-gram) for simple example\n",
    "\n",
    "- Creating the **input pipeline** with `tf.data`\n",
    "- Creating the model as **Class**\n",
    "\n",
    "Ref  \n",
    "- https://github.com/golbin/TensorFlow-Tutorials/blob/master/04%20-%20Neural%20Network%20Basic/03%20-%20Word2Vec.py  \n",
    "- https://github.com/aisolab/TF_code_examples_for_Deep_learning/blob/master/Tutorial%20of%20implementing%20Word2Vec.ipynb"
   ]
  },
  {
   "cell_type": "markdown",
   "metadata": {},
   "source": [
    "### Setup"
   ]
  },
  {
   "cell_type": "code",
   "execution_count": 1,
   "metadata": {},
   "outputs": [
    {
     "name": "stdout",
     "output_type": "stream",
     "text": [
      "1.12.0\n"
     ]
    }
   ],
   "source": [
    "from __future__ import absolute_import, division, print_function\n",
    "import os, sys\n",
    "import numpy as np\n",
    "import pandas as pd\n",
    "import matplotlib.pyplot as plt\n",
    "import tensorflow as tf\n",
    "%matplotlib inline\n",
    "\n",
    "print(tf.__version__)"
   ]
  },
  {
   "cell_type": "markdown",
   "metadata": {},
   "source": [
    "### Data-preprocessing"
   ]
  },
  {
   "cell_type": "code",
   "execution_count": 2,
   "metadata": {},
   "outputs": [],
   "source": [
    "# 단어 벡터를 분석해볼 임의의 문장들\n",
    "sentences = [\"나 고양이 좋다\",\n",
    "             \"나 강아지 좋다\",\n",
    "             \"나 동물 좋다\",\n",
    "             \"강아지 고양이 동물\",\n",
    "             \"여자친구 고양이 강아지 좋다\",\n",
    "             \"고양이 생선 우유 좋다\",\n",
    "             \"강아지 생선 싫다 우유 좋다\",\n",
    "             \"강아지 고양이 눈 좋다\",\n",
    "             \"나 여자친구 좋다\",\n",
    "             \"여자친구 나 싫다\",\n",
    "             \"여자친구 나 영화 책 음악 좋다\",\n",
    "             \"나 게임 만화 애니 좋다\",\n",
    "             \"고양이 강아지 싫다\",\n",
    "             \"강아지 고양이 좋다\"]"
   ]
  },
  {
   "cell_type": "code",
   "execution_count": 3,
   "metadata": {},
   "outputs": [
    {
     "name": "stdout",
     "output_type": "stream",
     "text": [
      "['나', '고양이', '좋다', '나', '강아지', '좋다', '나', '동물', '좋다', '강아지', '고양이', '동물', '여자친구', '고양이', '강아지', '좋다', '고양이', '생선', '우유', '좋다', '강아지', '생선', '싫다', '우유', '좋다', '강아지', '고양이', '눈', '좋다', '나', '여자친구', '좋다', '여자친구', '나', '싫다', '여자친구', '나', '영화', '책', '음악', '좋다', '나', '게임', '만화', '애니', '좋다', '고양이', '강아지', '싫다', '강아지', '고양이', '좋다']\n",
      "['강아지', '게임', '고양이', '나', '눈', '동물', '만화', '생선', '싫다', '애니', '여자친구', '영화', '우유', '음악', '좋다', '책']\n"
     ]
    }
   ],
   "source": [
    "# 문장을 전부 합친 후, 공백으로 단어들을 나누고 고유한 단어들로 리스트를 만듭니다.\n",
    "word_sequence = ' '.join(sentences).split()\n",
    "word_list = list(set(word_sequence))\n",
    "word_list.sort()\n",
    "print(word_sequence)\n",
    "print(word_list)"
   ]
  },
  {
   "cell_type": "code",
   "execution_count": 4,
   "metadata": {},
   "outputs": [
    {
     "name": "stdout",
     "output_type": "stream",
     "text": [
      "{'강아지': 0, '게임': 1, '고양이': 2, '나': 3, '눈': 4, '동물': 5, '만화': 6, '생선': 7, '싫다': 8, '애니': 9, '여자친구': 10, '영화': 11, '우유': 12, '음악': 13, '좋다': 14, '책': 15}\n"
     ]
    }
   ],
   "source": [
    "# 문자열로 분석하는 것 보다, 숫자로 분석하는 것이 훨씬 용이하므로\n",
    "# 리스트에서 문자들의 인덱스를 뽑아서 사용하기 위해,\n",
    "# 이를 표현하기 위한 연관 배열과, 단어 리스트에서 단어를 참조 할 수 있는 인덱스 배열을 만듭합니다.\n",
    "word_dic = {w: i for i, w in enumerate(word_list)}\n",
    "print(word_dic)"
   ]
  },
  {
   "cell_type": "markdown",
   "metadata": {},
   "source": [
    "### Define preprocessor function for skip-gram of Word2Vec"
   ]
  },
  {
   "cell_type": "code",
   "execution_count": 5,
   "metadata": {},
   "outputs": [],
   "source": [
    "def preprocessor(sequences, word_dic, window_size):\n",
    "    context = []\n",
    "    for idx in range(window_size, len(sequences) - window_size):\n",
    "        center_word = word_dic.get(sequences[idx])\n",
    "        context_words = [word_dic.get(sequences[idx + _]) for _ in range(-window_size, window_size + 1) if _ != 0]\n",
    "    \n",
    "        for token in context_words:\n",
    "            context.append([center_word, token])\n",
    "    else:\n",
    "        return context"
   ]
  },
  {
   "cell_type": "code",
   "execution_count": 6,
   "metadata": {},
   "outputs": [],
   "source": [
    "batch = preprocessor(sequences = word_sequence, word_dic = word_dic, window_size = 2)"
   ]
  },
  {
   "cell_type": "code",
   "execution_count": 7,
   "metadata": {},
   "outputs": [],
   "source": [
    "center_words = np.array(batch)[:,0]\n",
    "target_words = np.array(batch)[:,[1]]"
   ]
  },
  {
   "cell_type": "markdown",
   "metadata": {},
   "source": [
    "### Define Word2vec class"
   ]
  },
  {
   "cell_type": "code",
   "execution_count": 8,
   "metadata": {},
   "outputs": [],
   "source": [
    "class Word2vec:\n",
    "    def __init__(self, center_words, target_words, vocab_size,\n",
    "                embedding_dim = 2, num_sampled = 10):\n",
    "        \n",
    "        self._center_words = center_words\n",
    "        self._target_words = target_words\n",
    "        \n",
    "        with tf.variable_scope('embeddings'):\n",
    "            self._embeddings = tf.get_variable(name = 'lookup_table', shape = [vocab_size, embedding_dim],\n",
    "                                               dtype = tf.float32, initializer = tf.truncated_normal_initializer())\n",
    "            self._selected_embed = tf.nn.embedding_lookup(params = self._embeddings, ids = self._center_words)\n",
    "            \n",
    "\n",
    "        with tf.variable_scope('nce'):\n",
    "            nce_weights = tf.get_variable('weights', shape = [vocab_size, embedding_dim], dtype = tf.float32,\n",
    "                                         initializer = tf.truncated_normal_initializer())\n",
    "            nce_biases = tf.get_variable('biases', initializer = tf.zeros(shape = [vocab_size]))\n",
    "            \n",
    "            self.nce_loss = tf.reduce_mean(tf.nn.nce_loss(weights = nce_weights, biases = nce_biases,\n",
    "                                            labels = self._target_words, inputs = self._selected_embed,\n",
    "                                            num_sampled = num_sampled, num_classes = vocab_size))\n",
    "    \n",
    "    def get_wordvector(self, sess, word_dic, word):\n",
    "        idx = word_dic.get(word)\n",
    "        feed_get_wordvector = {self._center_words : [idx]}\n",
    "        return sess.run(self._selected_embed, feed_dict = feed_get_wordvector)"
   ]
  },
  {
   "cell_type": "markdown",
   "metadata": {},
   "source": [
    "### Create a model of Word2vec"
   ]
  },
  {
   "cell_type": "code",
   "execution_count": 9,
   "metadata": {
    "scrolled": true
   },
   "outputs": [
    {
     "name": "stdout",
     "output_type": "stream",
     "text": [
      "24\n"
     ]
    }
   ],
   "source": [
    "# hyper-parameter\n",
    "epochs = 200\n",
    "batch_size = 8\n",
    "learning_rate = .001\n",
    "total_step = int(len(batch) / batch_size)\n",
    "print(total_step)"
   ]
  },
  {
   "cell_type": "code",
   "execution_count": 10,
   "metadata": {},
   "outputs": [],
   "source": [
    "## create input pipeline with tf.data\n",
    "dataset = tf.data.Dataset.from_tensor_slices((center_words, target_words))\n",
    "dataset = dataset.shuffle(buffer_size = 32)\n",
    "dataset = dataset.batch(batch_size = batch_size)\n",
    "iterator = dataset.make_initializable_iterator()\n",
    "x_data, y_data = iterator.get_next()"
   ]
  },
  {
   "cell_type": "code",
   "execution_count": 11,
   "metadata": {},
   "outputs": [],
   "source": [
    "sgram = Word2vec(center_words = x_data, target_words = y_data, vocab_size = len(word_dic))"
   ]
  },
  {
   "cell_type": "markdown",
   "metadata": {},
   "source": [
    "### Create training op and train model "
   ]
  },
  {
   "cell_type": "code",
   "execution_count": 12,
   "metadata": {},
   "outputs": [],
   "source": [
    "# create training op\n",
    "opt = tf.train.AdamOptimizer(learning_rate = learning_rate)\n",
    "\n",
    "# equal to 'var_list = None'\n",
    "training_op = opt.minimize(loss = sgram.nce_loss)"
   ]
  },
  {
   "cell_type": "code",
   "execution_count": 13,
   "metadata": {},
   "outputs": [
    {
     "name": "stdout",
     "output_type": "stream",
     "text": [
      "epoch :   0, tr_loss : 12.18\n",
      "epoch :  20, tr_loss : 8.93\n",
      "epoch :  40, tr_loss : 7.11\n",
      "epoch :  60, tr_loss : 5.62\n",
      "epoch :  80, tr_loss : 4.34\n",
      "epoch : 100, tr_loss : 3.77\n",
      "epoch : 120, tr_loss : 3.51\n",
      "epoch : 140, tr_loss : 3.39\n",
      "epoch : 160, tr_loss : 3.26\n",
      "epoch : 180, tr_loss : 3.12\n"
     ]
    }
   ],
   "source": [
    "sess = tf.Session()\n",
    "sess.run(tf.global_variables_initializer())\n",
    "\n",
    "tr_loss_hist = []\n",
    "\n",
    "for epoch in range(epochs):\n",
    "    sess.run(iterator.initializer)\n",
    "    avg_tr_loss = 0\n",
    "    total_step = 0\n",
    "\n",
    "    try:\n",
    "        while True:\n",
    "            _, tr_loss = sess.run(fetches = [training_op, sgram.nce_loss])\n",
    "            avg_tr_loss += tr_loss\n",
    "            total_step += 1\n",
    "\n",
    "    except tf.errors.OutOfRangeError:\n",
    "        pass\n",
    "    \n",
    "    avg_tr_loss /= total_step\n",
    "    tr_loss_hist.append(avg_tr_loss)\n",
    "    \n",
    "    if epoch % 20 == 0:\n",
    "        print('epoch : {:3}, tr_loss : {:.2f}'.format(epoch, avg_tr_loss))"
   ]
  },
  {
   "cell_type": "code",
   "execution_count": 14,
   "metadata": {},
   "outputs": [
    {
     "data": {
      "text/plain": [
       "[<matplotlib.lines.Line2D at 0x7fe3b4443160>]"
      ]
     },
     "execution_count": 14,
     "metadata": {},
     "output_type": "execute_result"
    },
    {
     "data": {
      "image/png": "[encoded data removed]",
      "text/plain": [
       "<Figure size 432x288 with 1 Axes>"
      ]
     },
     "metadata": {
      "needs_background": "light"
     },
     "output_type": "display_data"
    }
   ],
   "source": [
    "plt.plot(tr_loss_hist)"
   ]
  },
  {
   "cell_type": "code",
   "execution_count": 15,
   "metadata": {},
   "outputs": [
    {
     "data": {
      "image/png": "[encoded data removed]",
      "text/plain": [
       "<Figure size 432x288 with 1 Axes>"
      ]
     },
     "metadata": {
      "needs_background": "light"
     },
     "output_type": "display_data"
    }
   ],
   "source": [
    "for word in word_list:\n",
    "    tmp = sgram.get_wordvector(sess = sess, word_dic = word_dic, word = word)\n",
    "    x, y = tmp[0][0], tmp[0][1]\n",
    "    plt.scatter(x, y)\n",
    "    plt.annotate(word, xy=(x, y), xytext=(5, 2),\n",
    "                 textcoords='offset points', ha='right', va='bottom')"
   ]
  }
 ],
 "metadata": {
  "kernelspec": {
   "display_name": "Python 3",
   "language": "python",
   "name": "python3"
  },
  "language_info": {
   "codemirror_mode": {
    "name": "ipython",
    "version": 3
   },
   "file_extension": ".py",
   "mimetype": "text/x-python",
   "name": "python",
   "nbconvert_exporter": "python",
   "pygments_lexer": "ipython3",
   "version": "3.6.8"
  }
 },
 "nbformat": 4,
 "nbformat_minor": 2
}
