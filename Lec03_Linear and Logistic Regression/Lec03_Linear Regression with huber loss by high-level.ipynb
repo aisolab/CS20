{
 "cells": [
  {
   "cell_type": "markdown",
   "metadata": {},
   "source": [
    "# CS 20 : TensorFlow for Deep Learning Research\n",
    "## Lecture 03 : Linear and Logistic Regression\n",
    "### Linear Regression with huber loss by high-level"
   ]
  },
  {
   "cell_type": "markdown",
   "metadata": {},
   "source": [
    "### Setup"
   ]
  },
  {
   "cell_type": "code",
   "execution_count": 1,
   "metadata": {},
   "outputs": [
    {
     "name": "stdout",
     "output_type": "stream",
     "text": [
      "1.12.0\n"
     ]
    }
   ],
   "source": [
    "import os, sys\n",
    "import numpy as np\n",
    "import pandas as pd\n",
    "import matplotlib.pyplot as plt\n",
    "import tensorflow as tf\n",
    "%matplotlib inline\n",
    "\n",
    "print(tf.__version__)"
   ]
  },
  {
   "cell_type": "markdown",
   "metadata": {},
   "source": [
    "### Load and Pre-process data"
   ]
  },
  {
   "cell_type": "code",
   "execution_count": 2,
   "metadata": {},
   "outputs": [
    {
     "data": {
      "text/html": [
       "<div>\n",
       "<style scoped>\n",
       "    .dataframe tbody tr th:only-of-type {\n",
       "        vertical-align: middle;\n",
       "    }\n",
       "\n",
       "    .dataframe tbody tr th {\n",
       "        vertical-align: top;\n",
       "    }\n",
       "\n",
       "    .dataframe thead th {\n",
       "        text-align: right;\n",
       "    }\n",
       "</style>\n",
       "<table border=\"1\" class=\"dataframe\">\n",
       "  <thead>\n",
       "    <tr style=\"text-align: right;\">\n",
       "      <th></th>\n",
       "      <th>Country</th>\n",
       "      <th>Birth rate</th>\n",
       "      <th>Life expectancy</th>\n",
       "    </tr>\n",
       "  </thead>\n",
       "  <tbody>\n",
       "    <tr>\n",
       "      <th>0</th>\n",
       "      <td>Vietnam</td>\n",
       "      <td>1.822</td>\n",
       "      <td>74.828244</td>\n",
       "    </tr>\n",
       "    <tr>\n",
       "      <th>1</th>\n",
       "      <td>Vanuatu</td>\n",
       "      <td>3.869</td>\n",
       "      <td>70.819488</td>\n",
       "    </tr>\n",
       "    <tr>\n",
       "      <th>2</th>\n",
       "      <td>Tonga</td>\n",
       "      <td>3.911</td>\n",
       "      <td>72.150659</td>\n",
       "    </tr>\n",
       "    <tr>\n",
       "      <th>3</th>\n",
       "      <td>Timor-Leste</td>\n",
       "      <td>5.578</td>\n",
       "      <td>61.999854</td>\n",
       "    </tr>\n",
       "    <tr>\n",
       "      <th>4</th>\n",
       "      <td>Thailand</td>\n",
       "      <td>1.579</td>\n",
       "      <td>73.927659</td>\n",
       "    </tr>\n",
       "  </tbody>\n",
       "</table>\n",
       "</div>"
      ],
      "text/plain": [
       "       Country  Birth rate  Life expectancy\n",
       "0      Vietnam       1.822        74.828244\n",
       "1      Vanuatu       3.869        70.819488\n",
       "2        Tonga       3.911        72.150659\n",
       "3  Timor-Leste       5.578        61.999854\n",
       "4     Thailand       1.579        73.927659"
      ]
     },
     "execution_count": 2,
     "metadata": {},
     "output_type": "execute_result"
    }
   ],
   "source": [
    "data = pd.read_table('../data/lecture03/example_with_placeholder/birth_life_2010.txt')\n",
    "data.head()"
   ]
  },
  {
   "cell_type": "code",
   "execution_count": 3,
   "metadata": {},
   "outputs": [
    {
     "name": "stdout",
     "output_type": "stream",
     "text": [
      "(190,) (190,)\n"
     ]
    }
   ],
   "source": [
    "x = data.loc[:,'Birth rate'].values\n",
    "y = data.loc[:,'Life expectancy'].values\n",
    "print(x.shape, y.shape)"
   ]
  },
  {
   "cell_type": "code",
   "execution_count": 4,
   "metadata": {},
   "outputs": [
    {
     "name": "stdout",
     "output_type": "stream",
     "text": [
      "(133,) (133,)\n",
      "(57,) (57,)\n"
     ]
    }
   ],
   "source": [
    "# split train and validation\n",
    "tr_indices = np.random.choice(range(x.shape[0]), size = int(x.shape[0] * .7), replace=False)\n",
    "x_tr = x[tr_indices]\n",
    "y_tr = y[tr_indices]\n",
    "\n",
    "x_val = np.delete(x, tr_indices, axis = 0)\n",
    "y_val = np.delete(y, tr_indices, axis = 0)\n",
    "\n",
    "print(x_tr.shape, y_tr.shape)\n",
    "print(x_val.shape, y_val.shape)"
   ]
  },
  {
   "cell_type": "markdown",
   "metadata": {},
   "source": [
    "### Define the graph of Simple Linear Regression"
   ]
  },
  {
   "cell_type": "code",
   "execution_count": 5,
   "metadata": {},
   "outputs": [],
   "source": [
    "# create placeholders for X (birth rate) and Y (life expectancy)\n",
    "X = tf.placeholder(dtype = tf.float32, shape = [None])\n",
    "Y = tf.placeholder(dtype = tf.float32, shape = [None])\n",
    "\n",
    "# create weight and bias, initialized to 0 \n",
    "w = tf.get_variable(name = 'weight', initializer = tf.constant(.0))\n",
    "b = tf.get_variable(name = 'bias', initializer = tf.constant(.0))\n",
    "\n",
    "# construct model to predict Y\n",
    "yhat = X * w + b\n",
    "\n",
    "# use the square error as huber loss function\n",
    "\n",
    "huber_loss = tf.losses.huber_loss(labels = Y, predictions = yhat, delta = 14.)\n",
    "huber_loss_summ = tf.summary.scalar(name = 'huber_loss', tensor = huber_loss) # for tensorboard\n",
    "\n",
    "# using gradient descent with learning rate of 0.01 to minimize loss\n",
    "opt = tf.train.GradientDescentOptimizer(learning_rate=.01)\n",
    "training_op = opt.minimize(huber_loss)"
   ]
  },
  {
   "cell_type": "markdown",
   "metadata": {},
   "source": [
    "### Training"
   ]
  },
  {
   "cell_type": "code",
   "execution_count": 6,
   "metadata": {},
   "outputs": [
    {
     "name": "stdout",
     "output_type": "stream",
     "text": [
      "23\n"
     ]
    }
   ],
   "source": [
    "epochs = 100\n",
    "batch_size = 8\n",
    "total_step = int(x.shape[0] / batch_size)\n",
    "print(total_step)"
   ]
  },
  {
   "cell_type": "code",
   "execution_count": 7,
   "metadata": {},
   "outputs": [],
   "source": [
    "train_writer = tf.summary.FileWriter(logdir = '../graphs/lecture03/linreg_huber_high_tf_placeholder/train',\n",
    "                                     graph = tf.get_default_graph())\n",
    "val_writer = tf.summary.FileWriter(logdir = '../graphs/lecture03/linreg_huber_high_tf_placeholder/val',\n",
    "                                     graph = tf.get_default_graph())"
   ]
  },
  {
   "cell_type": "code",
   "execution_count": 8,
   "metadata": {},
   "outputs": [
    {
     "name": "stdout",
     "output_type": "stream",
     "text": [
      "epoch :   0, tr_loss : 685.14, val_loss : 659.73\n",
      "epoch :  10, tr_loss : 289.82, val_loss : 325.76\n",
      "epoch :  20, tr_loss : 220.90, val_loss : 229.55\n",
      "epoch :  30, tr_loss : 192.53, val_loss : 193.45\n",
      "epoch :  40, tr_loss : 122.62, val_loss : 122.25\n",
      "epoch :  50, tr_loss : 76.55, val_loss : 75.61\n",
      "epoch :  60, tr_loss : 41.21, val_loss : 42.26\n",
      "epoch :  70, tr_loss : 25.24, val_loss : 27.20\n",
      "epoch :  80, tr_loss : 18.49, val_loss : 20.51\n",
      "epoch :  90, tr_loss : 17.66, val_loss : 20.04\n"
     ]
    }
   ],
   "source": [
    "sess_config = tf.ConfigProto(gpu_options=tf.GPUOptions(allow_growth=True))\n",
    "sess = tf.Session(config = sess_config)\n",
    "sess.run(tf.global_variables_initializer())\n",
    "\n",
    "tr_loss_hist = []\n",
    "val_loss_hist = []\n",
    "\n",
    "for epoch in range(epochs):\n",
    "    avg_tr_loss = 0\n",
    "    avg_val_loss = 0\n",
    "    \n",
    "    for step in range(total_step):\n",
    "        batch_indices = np.random.choice(range(x_tr.shape[0]),\n",
    "                                         size = batch_size, replace = False)\n",
    "        val_indices = np.random.choice(range(x_val.shape[0]),\n",
    "                                       size = batch_size, replace = False)\n",
    "        batch_xs = x_tr[batch_indices]\n",
    "        batch_ys = y_tr[batch_indices]\n",
    "        val_xs = x_val[val_indices]\n",
    "        val_ys = y_val[val_indices]\n",
    "        \n",
    "        _, tr_loss = sess.run(fetches = [training_op, huber_loss],\n",
    "                              feed_dict = {X : batch_xs, Y : batch_ys})\n",
    "        tr_loss_summ = sess.run(huber_loss_summ, feed_dict = {X : batch_xs, Y : batch_ys})\n",
    "\n",
    "        val_loss, val_loss_summ = sess.run(fetches = [huber_loss, huber_loss_summ],\n",
    "                                           feed_dict = {X : val_xs, Y: val_ys})\n",
    "        avg_tr_loss += tr_loss / total_step\n",
    "        avg_val_loss += val_loss / total_step\n",
    "        \n",
    "    train_writer.add_summary(tr_loss_summ, global_step = epoch)\n",
    "    val_writer.add_summary(val_loss_summ, global_step = epoch)\n",
    "    \n",
    "    tr_loss_hist.append(avg_tr_loss)\n",
    "    val_loss_hist.append(avg_val_loss)\n",
    "    \n",
    "    if epoch % 10 == 0:\n",
    "        print('epoch : {:3}, tr_loss : {:.2f}, val_loss : {:.2f}'.format(epoch, avg_tr_loss, avg_val_loss))\n",
    "\n",
    "train_writer.close()\n",
    "val_writer.close()"
   ]
  },
  {
   "cell_type": "markdown",
   "metadata": {},
   "source": [
    "### Visualization"
   ]
  },
  {
   "cell_type": "code",
   "execution_count": 9,
   "metadata": {},
   "outputs": [
    {
     "data": {
      "text/plain": [
       "<matplotlib.legend.Legend at 0x1200f64a8>"
      ]
     },
     "execution_count": 9,
     "metadata": {},
     "output_type": "execute_result"
    },
    {
     "data": {
      "image/png": "[encoded data removed]",
      "text/plain": [
       "<Figure size 432x288 with 1 Axes>"
      ]
     },
     "metadata": {
      "needs_background": "light"
     },
     "output_type": "display_data"
    }
   ],
   "source": [
    "plt.plot(tr_loss_hist, label = 'train')\n",
    "plt.plot(val_loss_hist, label = 'validation')\n",
    "plt.legend()"
   ]
  },
  {
   "cell_type": "code",
   "execution_count": 10,
   "metadata": {},
   "outputs": [
    {
     "data": {
      "text/plain": [
       "<matplotlib.legend.Legend at 0x12219e748>"
      ]
     },
     "execution_count": 10,
     "metadata": {},
     "output_type": "execute_result"
    },
    {
     "data": {
      "image/png": "[encoded data removed]",
      "text/plain": [
       "<Figure size 432x288 with 1 Axes>"
      ]
     },
     "metadata": {
      "needs_background": "light"
     },
     "output_type": "display_data"
    }
   ],
   "source": [
    "w_out, b_out = sess.run([w, b])\n",
    "plt.plot(data.iloc[:,1], data.iloc[:,2], 'bo', label='Real data')\n",
    "plt.plot(data.iloc[:,1], data.iloc[:,1] * w_out + b_out, 'r', label='Predicted data')\n",
    "plt.legend()"
   ]
  }
 ],
 "metadata": {
  "kernelspec": {
   "display_name": "Python 3",
   "language": "python",
   "name": "python3"
  },
  "language_info": {
   "codemirror_mode": {
    "name": "ipython",
    "version": 3
   },
   "file_extension": ".py",
   "mimetype": "text/x-python",
   "name": "python",
   "nbconvert_exporter": "python",
   "pygments_lexer": "ipython3",
   "version": "3.6.6"
  },
  "varInspector": {
   "cols": {
    "lenName": 16,
    "lenType": 16,
    "lenVar": 40
   },
   "kernels_config": {
    "python": {
     "delete_cmd_postfix": "",
     "delete_cmd_prefix": "del ",
     "library": "var_list.py",
     "varRefreshCmd": "print(var_dic_list())"
    },
    "r": {
     "delete_cmd_postfix": ") ",
     "delete_cmd_prefix": "rm(",
     "library": "var_list.r",
     "varRefreshCmd": "cat(var_dic_list()) "
    }
   },
   "types_to_exclude": [
    "module",
    "function",
    "builtin_function_or_method",
    "instance",
    "_Feature"
   ],
   "window_display": false
  }
 },
 "nbformat": 4,
 "nbformat_minor": 2
}
