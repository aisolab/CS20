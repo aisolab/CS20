{
 "cells": [
  {
   "cell_type": "markdown",
   "metadata": {},
   "source": [
    "# CS 20 : TensorFlow for Deep Learning Research\n",
    "## Lecture 04 : Eager execution\n",
    "You no longer need to worry about...\n",
    "\n",
    "1. placeholders\n",
    "2. sessions\n",
    "3. control dependencies\n",
    "4. \"lazy loading\"\n",
    "5. {name, variable, op} scopes\n",
    "\n",
    "### notice\n",
    "#### Main changes\n",
    "\n",
    "The API for Variables will then change in the following ways for TF 2.0:\n",
    "\n",
    "*   ***tf.Variable will become an abstract base class with a well-defined interface and a scoped factory to construct instances***\n",
    "    *   ***users will be able to implement their own variable-like objects by subclassing tf.Variable and adding a scoped factory function to use those variables***\n",
    "*   ***variable_scope and get_variable will be removed***\n",
    "    *   the tf 1.0 version of variable_scope and get_variable will be left in tf.compat.v1\n",
    "    *   ***to control variable naming users can use tf.name_scope + tf.Variable***\n",
    "    *   whether a variable is shared across sessions / processes will be controlled by a constructor argument to tf.Variable; no other type of scope reuse will be done in the framework\n",
    "    *   scoped partitioning will be implemented as a factory function at first\n",
    "    *   libraries and users are encouraged to reuse variables by reusing their objects, like Keras layers do\n",
    "    *   custom_getters will have the following API: [variable_creator_scope](https://github.com/tensorflow/tensorflow/blob/567189980f7a1c2aa09a5170bd8d01a6ec37d303/tensorflow/python/ops/variable_scope.py#L2402)\n",
    "*   the default implementation of the tf.Variable interface will be ResourceVariable\n",
    "    *   RefVariable will be kept in tf.compat.v1 and will be the default implementation for tf.compat.v1.Variable\n",
    "    *   tf.compat.v1.Variable will have a use_resource argument to control whether a resource variable or a ref variable will be created\n",
    "*   symbols like tf.assign* will be removed in favor of methods in tf.Variable\n",
    "    *   in tf.compat.v1 these symbols will be marked as deprecated and will call the corresponding methods in the Variable object instead\n",
    "https://github.com/tensorflow/community/blob/master/rfcs/20180817-variables-20.md"
   ]
  },
  {
   "cell_type": "markdown",
   "metadata": {},
   "source": [
    "### Setup"
   ]
  },
  {
   "cell_type": "code",
   "execution_count": 1,
   "metadata": {},
   "outputs": [],
   "source": [
    "import tensorflow as tf\n",
    "import numpy as np\n",
    "tf.enable_eager_execution()"
   ]
  },
  {
   "cell_type": "markdown",
   "metadata": {},
   "source": [
    "### Boilerplate\n",
    "```python\n",
    "x = tf.placeholder(dtype = tf.float32, shape = [1, 1])\n",
    "m = tf.matmul(x, x)\n",
    "\n",
    "print(m)\n",
    "with tf.Session() as sess:\n",
    "    m_out = sess.run(m, feed_dict = {x : [[2.]]})\n",
    "    print(m_out, m_out.shape)\n",
    "```\n",
    "\n",
    "```python\n",
    "Tensor(\"mul:0\", shape=(1, 1), dtype=float32)\n",
    "[[4.]] (1, 1)\n",
    "```\n",
    "\n",
    "**When using `tf.enable_eager_execution()`, Bolierplate changes as belows**"
   ]
  },
  {
   "cell_type": "code",
   "execution_count": 2,
   "metadata": {},
   "outputs": [
    {
     "name": "stdout",
     "output_type": "stream",
     "text": [
      "tf.Tensor([[4.]], shape=(1, 1), dtype=float32)\n",
      "versions {\n",
      "  producer: 27\n",
      "}\n",
      "\n"
     ]
    }
   ],
   "source": [
    "x = [[2.]]\n",
    "m = tf.matmul(x, x)\n",
    "print(m) # No sessions()!\n",
    "print(tf.get_default_graph().as_graph_def()) # No graphs!"
   ]
  },
  {
   "cell_type": "markdown",
   "metadata": {},
   "source": [
    "### Lazy Loading\n",
    "Each iteration adds nodes to the graph\n",
    "\n",
    "```python\n",
    "x = tf.constant(value = [[1,2],[3,4]], dtype = tf.int32)\n",
    "\n",
    "with tf.Session() as sess:\n",
    "    for i in range(x.shape[0]):\n",
    "        for j in range(x.shape[1]):\n",
    "            print(sess.run(x[i, j]))\n",
    "```\n",
    "\n",
    "```python\n",
    "1\n",
    "2\n",
    "3\n",
    "4\n",
    "```\n",
    "\n",
    "**When using `tf.enable_eager_execution()`, not graph**"
   ]
  },
  {
   "cell_type": "code",
   "execution_count": 3,
   "metadata": {},
   "outputs": [
    {
     "name": "stdout",
     "output_type": "stream",
     "text": [
      "tf.Tensor(1, shape=(), dtype=int32)\n",
      "tf.Tensor(2, shape=(), dtype=int32)\n",
      "tf.Tensor(3, shape=(), dtype=int32)\n",
      "tf.Tensor(4, shape=(), dtype=int32)\n"
     ]
    }
   ],
   "source": [
    "x = tf.constant(value = [[1,2],[3,4]], dtype = tf.int32)\n",
    "\n",
    "for i in range(x.shape[0]):\n",
    "    for j in range(x.shape[1]):\n",
    "        print(x[i, j])"
   ]
  },
  {
   "cell_type": "markdown",
   "metadata": {},
   "source": [
    "### Tensors act like numpy arrays"
   ]
  },
  {
   "cell_type": "code",
   "execution_count": 9,
   "metadata": {},
   "outputs": [
    {
     "name": "stdout",
     "output_type": "stream",
     "text": [
      "[[1. 4. 9.]]\n",
      "tf.Tensor(1.0, shape=(), dtype=float32)\n",
      "tf.Tensor(2.0, shape=(), dtype=float32)\n",
      "tf.Tensor(3.0, shape=(), dtype=float32)\n"
     ]
    }
   ],
   "source": [
    "# Tensors are backed by NumPy arrays\n",
    "# Tensors are compatible with NumPy functions\n",
    "x = tf.constant(value = [[1.,2.,3]])\n",
    "assert type(x.numpy()) == np.ndarray\n",
    "squared = np.square(x)\n",
    "print(squared)\n",
    "\n",
    "# Tensors are iterable!\n",
    "for i in x[0]:\n",
    "    print(i)"
   ]
  },
  {
   "cell_type": "code",
   "execution_count": null,
   "metadata": {},
   "outputs": [],
   "source": []
  }
 ],
 "metadata": {
  "kernelspec": {
   "display_name": "Python 3",
   "language": "python",
   "name": "python3"
  },
  "language_info": {
   "codemirror_mode": {
    "name": "ipython",
    "version": 3
   },
   "file_extension": ".py",
   "mimetype": "text/x-python",
   "name": "python",
   "nbconvert_exporter": "python",
   "pygments_lexer": "ipython3",
   "version": "3.6.6"
  }
 },
 "nbformat": 4,
 "nbformat_minor": 2
}
