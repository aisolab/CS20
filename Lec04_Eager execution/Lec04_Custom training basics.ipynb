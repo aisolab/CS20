{
 "cells": [
  {
   "cell_type": "markdown",
   "metadata": {},
   "source": [
    "# CS 20 : TensorFlow for Deep Learning Research\n",
    "## Lecture 04 : Eager execution\n",
    "### Custon training basics\n",
    "* Reference\n",
    "    + https://www.tensorflow.org/tutorials/eager/custom_training?hl=ko"
   ]
  },
  {
   "cell_type": "markdown",
   "metadata": {},
   "source": [
    "### Setup"
   ]
  },
  {
   "cell_type": "code",
   "execution_count": 1,
   "metadata": {},
   "outputs": [
    {
     "name": "stdout",
     "output_type": "stream",
     "text": [
      "1.12.0\n"
     ]
    }
   ],
   "source": [
    "from __future__ import absolute_import, division, print_function\n",
    "import numpy as np\n",
    "import tensorflow as tf\n",
    "import matplotlib.pyplot as plt\n",
    "%matplotlib inline\n",
    "\n",
    "tf.enable_eager_execution()\n",
    "\n",
    "print(tf.__version__)"
   ]
  },
  {
   "cell_type": "markdown",
   "metadata": {},
   "source": [
    "### Variables\n",
    "Tensors in TensorFlow are immutable stateless objects. Machine learning models, however, need to have changing state: as your model trains, the same code to compute predictions should behave differently over time (hopefully with a lower loss!). To represent this state which needs to change over the course of your computation, you can choose to rely on the fact that Python is a stateful programming language:"
   ]
  },
  {
   "cell_type": "code",
   "execution_count": 2,
   "metadata": {},
   "outputs": [
    {
     "name": "stdout",
     "output_type": "stream",
     "text": [
      "tf.Tensor(\n",
      "[[2. 2. 2. 2. 2. 2. 2. 2. 2. 2.]\n",
      " [2. 2. 2. 2. 2. 2. 2. 2. 2. 2.]\n",
      " [2. 2. 2. 2. 2. 2. 2. 2. 2. 2.]\n",
      " [2. 2. 2. 2. 2. 2. 2. 2. 2. 2.]\n",
      " [2. 2. 2. 2. 2. 2. 2. 2. 2. 2.]\n",
      " [2. 2. 2. 2. 2. 2. 2. 2. 2. 2.]\n",
      " [2. 2. 2. 2. 2. 2. 2. 2. 2. 2.]\n",
      " [2. 2. 2. 2. 2. 2. 2. 2. 2. 2.]\n",
      " [2. 2. 2. 2. 2. 2. 2. 2. 2. 2.]\n",
      " [2. 2. 2. 2. 2. 2. 2. 2. 2. 2.]], shape=(10, 10), dtype=float32)\n"
     ]
    }
   ],
   "source": [
    "# Using python state\n",
    "x = tf.zeros([10, 10])\n",
    "x += 2  # This is equivalent to x = x + 2, which does not mutate the original\n",
    "        # value of x\n",
    "print(x)"
   ]
  },
  {
   "cell_type": "markdown",
   "metadata": {},
   "source": [
    "***TensorFlow, however, has stateful operations built in, and these are often more pleasant to use than low-level Python representations of your state.*** To represent weights in a model, for example, it's often convenient and efficient ***to use TensorFlow variables.*** "
   ]
  },
  {
   "cell_type": "markdown",
   "metadata": {},
   "source": [
    "***Computations using Variables are automatically traced when computing gradients***. For Variables representing embeddings TensorFlow will do sparse updates by default, which are more computation and memory efficient. Using Variables is also a way to quickly let a reader of your code know that this piece of state is mutable."
   ]
  },
  {
   "cell_type": "code",
   "execution_count": 3,
   "metadata": {},
   "outputs": [
    {
     "name": "stdout",
     "output_type": "stream",
     "text": [
      "<tf.Variable 'Variable:0' shape=() dtype=float32, numpy=1.0>\n",
      "<tf.Variable 'Variable:0' shape=() dtype=float32, numpy=3.0>\n",
      "<bound method ResourceVariable.numpy of <tf.Variable 'Variable:0' shape=() dtype=float32, numpy=9.0>>\n"
     ]
    }
   ],
   "source": [
    "v = tf.Variable(1.0)\n",
    "print(v)\n",
    "\n",
    "# Re-assign the value\n",
    "v.assign(3.0)\n",
    "print(v)\n",
    "\n",
    "# Use `v` in a TensorFlow operation like tf.square() and reassign\n",
    "v.assign(tf.square(v))\n",
    "print(v.numpy)"
   ]
  },
  {
   "cell_type": "markdown",
   "metadata": {},
   "source": [
    "### Example: Fitting a linear model\n",
    "1. Define the model\n",
    "2. Define a loss function\n",
    "3. Obtain training data\n",
    "4. Run through the training data and use \"optimizer\" to adjust the variables to fit the data"
   ]
  },
  {
   "cell_type": "markdown",
   "metadata": {},
   "source": [
    "#### define model"
   ]
  },
  {
   "cell_type": "code",
   "execution_count": 4,
   "metadata": {},
   "outputs": [],
   "source": [
    "class Model():\n",
    "    def __init__(self):\n",
    "        self.w = tf.Variable(tf.random_normal(shape = []))\n",
    "        self.b = tf.Variable(0.)\n",
    "        \n",
    "    def __call__(self, x):\n",
    "        return self.w * x + self.b\n",
    "    \n",
    "model = Model()"
   ]
  },
  {
   "cell_type": "markdown",
   "metadata": {},
   "source": [
    "#### Define a loss function"
   ]
  },
  {
   "cell_type": "code",
   "execution_count": 5,
   "metadata": {},
   "outputs": [],
   "source": [
    "def loss_fn(predicted_y, desired_y):\n",
    "    return tf.reduce_mean(tf.square(predicted_y - desired_y))"
   ]
  },
  {
   "cell_type": "code",
   "execution_count": 6,
   "metadata": {},
   "outputs": [],
   "source": [
    "# Obtain training data\n",
    "true_w = 3.0\n",
    "true_b = 2.0\n",
    "num_examples = 1000\n",
    "\n",
    "inputs  = tf.random_normal(shape=[num_examples])\n",
    "noise   = tf.random_normal(shape=[num_examples])\n",
    "outputs = inputs * true_w + true_b + noise"
   ]
  },
  {
   "cell_type": "code",
   "execution_count": 7,
   "metadata": {},
   "outputs": [
    {
     "data": {
      "image/png": "[encoded data removed]",
      "text/plain": [
       "<Figure size 432x288 with 1 Axes>"
      ]
     },
     "metadata": {
      "needs_background": "light"
     },
     "output_type": "display_data"
    },
    {
     "name": "stdout",
     "output_type": "stream",
     "text": [
      "Current loss: \n",
      "18.592113\n"
     ]
    }
   ],
   "source": [
    "plt.scatter(inputs, outputs, c='b')\n",
    "plt.scatter(inputs, model(inputs), c='r')\n",
    "plt.show()\n",
    "\n",
    "print('Current loss: '),\n",
    "print(loss_fn(model(inputs), outputs).numpy())"
   ]
  },
  {
   "cell_type": "markdown",
   "metadata": {},
   "source": [
    "#### Run through the training data and use \"optimizer\" to adjust the variables to fit the data"
   ]
  },
  {
   "cell_type": "code",
   "execution_count": 8,
   "metadata": {},
   "outputs": [],
   "source": [
    "epochs = 10\n",
    "batch_size = 64\n",
    "learning_rate = .1\n",
    "\n",
    "data = tf.data.Dataset.from_tensor_slices((inputs, outputs))\n",
    "data = data.shuffle(500)\n",
    "data = data.batch(batch_size = batch_size)"
   ]
  },
  {
   "cell_type": "code",
   "execution_count": 9,
   "metadata": {},
   "outputs": [
    {
     "name": "stdout",
     "output_type": "stream",
     "text": [
      "epoch:  1, w: 2.79, b: 1.95, mse_loss: 4.200\n",
      "epoch:  2, w: 3.03, b: 1.97, mse_loss: 0.998\n",
      "epoch:  3, w: 2.95, b: 2.03, mse_loss: 0.982\n",
      "epoch:  4, w: 2.96, b: 2.01, mse_loss: 0.979\n",
      "epoch:  5, w: 3.00, b: 2.07, mse_loss: 0.987\n",
      "epoch:  6, w: 2.98, b: 2.04, mse_loss: 0.987\n",
      "epoch:  7, w: 2.99, b: 1.95, mse_loss: 0.988\n",
      "epoch:  8, w: 3.02, b: 2.00, mse_loss: 0.980\n",
      "epoch:  9, w: 3.02, b: 1.97, mse_loss: 0.985\n",
      "epoch: 10, w: 2.98, b: 2.04, mse_loss: 0.984\n"
     ]
    }
   ],
   "source": [
    "# When using tf.train, you read the document (https://www.tensorflow.org/guide/eager)  \n",
    "w_hist = []\n",
    "b_hist = []\n",
    "\n",
    "for epoch in range(epochs):\n",
    "    avg_loss = 0\n",
    "    tr_step = 0\n",
    "    for mb_x, mb_y in data:\n",
    "        with tf.GradientTape() as tape:\n",
    "            mb_yhat = model(mb_x)\n",
    "            mb_loss = loss_fn(mb_yhat, mb_y)\n",
    "        dw, db = tape.gradient(target = mb_loss, sources = [model.w, model.b])\n",
    "        \n",
    "        model.w.assign_sub(learning_rate * dw)\n",
    "        model.b.assign_sub(learning_rate * db)\n",
    "        tr_step += 1\n",
    "        avg_loss += mb_loss\n",
    "    else:\n",
    "        w_hist.append(model.w.numpy())\n",
    "        b_hist.append(model.b.numpy())\n",
    "        avg_loss /= tr_step\n",
    "\n",
    "    print('epoch: {:2}, w: {:.2f}, b: {:.2f}, mse_loss: {:.3f}'.format(epoch + 1, w_hist[-1],\n",
    "                                                                       b_hist[-1], avg_loss))"
   ]
  },
  {
   "cell_type": "code",
   "execution_count": 10,
   "metadata": {},
   "outputs": [
    {
     "data": {
      "image/png": "[encoded data removed]",
      "text/plain": [
       "<Figure size 432x288 with 1 Axes>"
      ]
     },
     "metadata": {
      "needs_background": "light"
     },
     "output_type": "display_data"
    }
   ],
   "source": [
    "# Let's plot it all\n",
    "plt.plot(range(epochs), w_hist, 'r',\n",
    "         range(epochs), b_hist, 'b')\n",
    "plt.plot([true_w] * len(range(epochs)), 'r--',\n",
    "         [true_b] * len(range(epochs)), 'b--')\n",
    "plt.legend(['w', 'b', 'true_w', 'true_b'])\n",
    "plt.show()"
   ]
  }
 ],
 "metadata": {
  "kernelspec": {
   "display_name": "Python 3",
   "language": "python",
   "name": "python3"
  },
  "language_info": {
   "codemirror_mode": {
    "name": "ipython",
    "version": 3
   },
   "file_extension": ".py",
   "mimetype": "text/x-python",
   "name": "python",
   "nbconvert_exporter": "python",
   "pygments_lexer": "ipython3",
   "version": "3.6.6"
  }
 },
 "nbformat": 4,
 "nbformat_minor": 2
}
