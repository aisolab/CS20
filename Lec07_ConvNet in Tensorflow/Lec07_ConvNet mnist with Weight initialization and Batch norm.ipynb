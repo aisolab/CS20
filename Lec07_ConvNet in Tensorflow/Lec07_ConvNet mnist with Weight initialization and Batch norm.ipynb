{
 "cells": [
  {
   "cell_type": "markdown",
   "metadata": {},
   "source": [
    "# CS 20 : TensorFlow for Deep Learning Research\n",
    "## Lecture 07 : ConvNet in TensorFlow\n",
    "Specification of SimpleCNN is same that of [Lec7_ConvNet mnist by high-level.ipynb](https://nbviewer.jupyter.org/github/aisolab/CS20/blob/master/Lec07_ConvNet%20in%20Tensorflow/Lec07_ConvNet%20mnist%20by%20high-level.ipynb)  \n",
    "Different things are as below.\n",
    "- Initializing weights of model by He initialization\n",
    "- Applying Batch normalization instead of Drop out  \n",
    "\n",
    "### ConvNet mnist with Weight initialization and Batch norm\n",
    "- Creating the **data pipeline** with `tf.data`\n",
    "- Using `tf.contrib.slim`, alias `slim`\n",
    "- Creating the model as **Class** with `slim`\n",
    "- Initializaing weights of model with **He initialization** by `slim.variance_scaling_initializer`\n",
    "- Training the model with **Batch normalization** technique by `slim.batch_norm`\n",
    "- Using tensorboard"
   ]
  },
  {
   "cell_type": "markdown",
   "metadata": {},
   "source": [
    "### Setup"
   ]
  },
  {
   "cell_type": "code",
   "execution_count": 1,
   "metadata": {},
   "outputs": [
    {
     "name": "stdout",
     "output_type": "stream",
     "text": [
      "1.12.0\n"
     ]
    }
   ],
   "source": [
    "from __future__ import absolute_import, division, print_function\n",
    "import os, sys\n",
    "import numpy as np\n",
    "import pandas as pd\n",
    "import matplotlib.pyplot as plt\n",
    "import tensorflow as tf\n",
    "%matplotlib inline\n",
    "\n",
    "slim = tf.contrib.slim\n",
    "print(tf.__version__)"
   ]
  },
  {
   "cell_type": "markdown",
   "metadata": {},
   "source": [
    "### Load and Pre-process data"
   ]
  },
  {
   "cell_type": "code",
   "execution_count": 2,
   "metadata": {},
   "outputs": [],
   "source": [
    "(x_train, y_train), (x_tst, y_tst) = tf.keras.datasets.mnist.load_data()\n",
    "x_train = x_train  / 255\n",
    "x_train = x_train.reshape(-1, 28, 28, 1).astype(np.float32)\n",
    "x_tst = x_tst / 255\n",
    "x_tst = x_tst.reshape(-1, 28, 28, 1).astype(np.float32)"
   ]
  },
  {
   "cell_type": "code",
   "execution_count": 3,
   "metadata": {},
   "outputs": [
    {
     "name": "stdout",
     "output_type": "stream",
     "text": [
      "(55000, 28, 28, 1) (55000,)\n",
      "(5000, 28, 28, 1) (5000,)\n"
     ]
    }
   ],
   "source": [
    "tr_indices = np.random.choice(range(x_train.shape[0]), size = 55000, replace = False)\n",
    "\n",
    "x_tr = x_train[tr_indices]\n",
    "y_tr = y_train[tr_indices].astype(np.int32)\n",
    "\n",
    "x_val = np.delete(arr = x_train, obj = tr_indices, axis = 0)\n",
    "y_val = np.delete(arr = y_train, obj = tr_indices, axis = 0).astype(np.int32)\n",
    "\n",
    "print(x_tr.shape, y_tr.shape)\n",
    "print(x_val.shape, y_val.shape)"
   ]
  },
  {
   "cell_type": "markdown",
   "metadata": {},
   "source": [
    "### Define SimpleCNN class by high-level api (slim)"
   ]
  },
  {
   "cell_type": "code",
   "execution_count": 4,
   "metadata": {},
   "outputs": [],
   "source": [
    "class SimpleCNN:\n",
    "    def __init__(self, X, y, n_of_classes):\n",
    "        \n",
    "        self._X = X\n",
    "        self._y = y\n",
    "        self._is_training = tf.placeholder(dtype = tf.bool)\n",
    "        \n",
    "        with slim.arg_scope([slim.conv2d, slim.fully_connected], activation_fn = tf.nn.relu,\n",
    "                            weights_initializer = slim.variance_scaling_initializer(), # He initialization\n",
    "                            biases_initializer = tf.random_normal_initializer(),\n",
    "                            normalizer_fn = slim.batch_norm,\n",
    "                            normalizer_params = {'decay' : .9, 'is_training': self._is_training}):\n",
    "            with slim.arg_scope([slim.conv2d], kernel_size = [5, 5], stride = 1, padding = 'SAME'):\n",
    "                with slim.arg_scope([slim.max_pool2d], kernel_size = [2, 2], stride = 2, padding = 'SAME'):\n",
    "                    \n",
    "                    conv1 = slim.conv2d(inputs = self._X, num_outputs = 32, scope = 'conv1')\n",
    "                    pool1 = slim.max_pool2d(inputs = conv1, scope = 'pool1')\n",
    "                    conv2 = slim.conv2d(inputs = pool1, num_outputs = 64, scope = 'conv2')\n",
    "                    pool2 = slim.max_pool2d(inputs = conv2, scope = 'pool2')\n",
    "                    flattened = slim.flatten(inputs = pool2)\n",
    "                    fc = slim.fully_connected(inputs = flattened, num_outputs = 1024, scope = 'fc1')\n",
    "                    self._score = slim.fully_connected(inputs = fc, num_outputs = n_of_classes,\n",
    "                                                       activation_fn = None, scope = 'score',\n",
    "                                                       normalizer_fn = None, normalizer_params = None)\n",
    "                    self.ce_loss = self._loss(labels = self._y, logits = self._score, scope = 'ce_loss')\n",
    "                    \n",
    "                    self._update_ops= tf.get_collection(tf.GraphKeys.UPDATE_OPS)\n",
    "                    \n",
    "        with tf.variable_scope('prediction'):\n",
    "            self._prediction = tf.argmax(input = self._score, axis = -1)\n",
    "        \n",
    "    def _loss(self, labels, logits, scope):\n",
    "        with tf.variable_scope(scope):\n",
    "            ce_loss = tf.reduce_mean(tf.losses.sparse_softmax_cross_entropy(labels = labels, logits = logits))\n",
    "            return ce_loss\n",
    "        \n",
    "    def predict(self, sess, x_data, is_training = True):\n",
    "        feed_prediction = {self._X : x_data, self._is_training : is_training}\n",
    "        return sess.run(self._prediction, feed_dict = feed_prediction)"
   ]
  },
  {
   "cell_type": "markdown",
   "metadata": {},
   "source": [
    "### Create a model of SimpleCNN"
   ]
  },
  {
   "cell_type": "code",
   "execution_count": 5,
   "metadata": {},
   "outputs": [
    {
     "name": "stdout",
     "output_type": "stream",
     "text": [
      "859\n"
     ]
    }
   ],
   "source": [
    "# hyper-parameter\n",
    "lr = .003\n",
    "epochs = 50\n",
    "batch_size = 64\n",
    "total_step = int(x_tr.shape[0] / batch_size)\n",
    "print(total_step)"
   ]
  },
  {
   "cell_type": "code",
   "execution_count": 6,
   "metadata": {},
   "outputs": [
    {
     "name": "stdout",
     "output_type": "stream",
     "text": [
      "<BatchDataset shapes: ((?, 28, 28, 1), (?,)), types: (tf.float32, tf.int32)>\n",
      "<BatchDataset shapes: ((?, 28, 28, 1), (?,)), types: (tf.float32, tf.int32)>\n"
     ]
    }
   ],
   "source": [
    "## create input pipeline with tf.data\n",
    "# for train\n",
    "tr_dataset = tf.data.Dataset.from_tensor_slices((x_tr, y_tr))\n",
    "tr_dataset = tr_dataset.shuffle(buffer_size = 10000)\n",
    "tr_dataset = tr_dataset.batch(batch_size = batch_size)\n",
    "tr_iterator = tr_dataset.make_initializable_iterator()\n",
    "print(tr_dataset)\n",
    "\n",
    "# for validation\n",
    "val_dataset = tf.data.Dataset.from_tensor_slices((x_val,y_val))\n",
    "val_dataset = val_dataset.batch(batch_size = batch_size)\n",
    "val_iterator = val_dataset.make_initializable_iterator()\n",
    "print(val_dataset)"
   ]
  },
  {
   "cell_type": "code",
   "execution_count": 7,
   "metadata": {},
   "outputs": [],
   "source": [
    "## define Iterator\n",
    "# tf.data.Iterator.from_string_handle의 output_shapes는 default = None이지만 꼭 값을 넣는 게 좋음\n",
    "handle = tf.placeholder(dtype = tf.string)\n",
    "iterator = tf.data.Iterator.from_string_handle(string_handle = handle,\n",
    "                                               output_types = tr_iterator.output_types,\n",
    "                                               output_shapes = tr_iterator.output_shapes)\n",
    "\n",
    "x_data, y_data = iterator.get_next()"
   ]
  },
  {
   "cell_type": "code",
   "execution_count": 8,
   "metadata": {},
   "outputs": [],
   "source": [
    "## connecting data pipeline with model\n",
    "cnn = SimpleCNN(X = x_data, y = y_data, n_of_classes = 10)"
   ]
  },
  {
   "cell_type": "markdown",
   "metadata": {},
   "source": [
    "### Create training op and train model"
   ]
  },
  {
   "cell_type": "code",
   "execution_count": 9,
   "metadata": {},
   "outputs": [],
   "source": [
    "## create training op\n",
    "with tf.control_dependencies(cnn._update_ops):\n",
    "    opt = tf.train.AdamOptimizer(learning_rate = lr)\n",
    "    # equal to 'var_list = None'\n",
    "    training_op = opt.minimize(loss = cnn.ce_loss)\n",
    "\n",
    "#for tensorboard\n",
    "loss_summ = tf.summary.scalar(name = 'loss', tensor = cnn.ce_loss)"
   ]
  },
  {
   "cell_type": "code",
   "execution_count": 10,
   "metadata": {},
   "outputs": [],
   "source": [
    "## for tensorboard\n",
    "tr_writer = tf.summary.FileWriter('../graphs/lecture07/convnet_mnist_batch_norm/train/', graph = tf.get_default_graph())\n",
    "val_writer = tf.summary.FileWriter('../graphs/lecture07/convnet_mnist_batch_norm/val/', graph = tf.get_default_graph())\n",
    "saver = tf.train.Saver()"
   ]
  },
  {
   "cell_type": "code",
   "execution_count": 11,
   "metadata": {},
   "outputs": [
    {
     "name": "stdout",
     "output_type": "stream",
     "text": [
      "epoch :   5, tr_loss : 0.026, val_loss : 0.049\n",
      "epoch :  10, tr_loss : 0.015, val_loss : 0.055\n",
      "epoch :  15, tr_loss : 0.009, val_loss : 0.068\n",
      "epoch :  20, tr_loss : 0.005, val_loss : 0.068\n",
      "epoch :  25, tr_loss : 0.005, val_loss : 0.078\n",
      "epoch :  30, tr_loss : 0.006, val_loss : 0.080\n",
      "epoch :  35, tr_loss : 0.002, val_loss : 0.061\n",
      "epoch :  40, tr_loss : 0.004, val_loss : 0.084\n",
      "epoch :  45, tr_loss : 0.003, val_loss : 0.066\n",
      "epoch :  50, tr_loss : 0.002, val_loss : 0.071\n"
     ]
    },
    {
     "data": {
      "text/plain": [
       "'../graphs/lecture07/convnet_mnist_batch_norm/cnn/'"
      ]
     },
     "execution_count": 11,
     "metadata": {},
     "output_type": "execute_result"
    }
   ],
   "source": [
    "sess = tf.Session()\n",
    "sess.run(tf.global_variables_initializer())\n",
    "tr_handle, val_handle = sess.run(fetches = [tr_iterator.string_handle(), val_iterator.string_handle()])\n",
    "\n",
    "tr_loss_hist = []\n",
    "val_loss_hist = []\n",
    "\n",
    "for epoch in range(epochs):\n",
    "\n",
    "    avg_tr_loss = 0\n",
    "    avg_val_loss = 0\n",
    "    tr_step = 0\n",
    "    val_step = 0\n",
    "\n",
    "    # for mini-batch training\n",
    "    sess.run(tr_iterator.initializer)    \n",
    "    try:\n",
    "        while True:\n",
    "            _, tr_loss, tr_loss_summ = sess.run(fetches = [training_op, cnn.ce_loss, loss_summ],\n",
    "                                               feed_dict = {handle : tr_handle, cnn._is_training : True})\n",
    "            avg_tr_loss += tr_loss\n",
    "            tr_step += 1\n",
    "            \n",
    "    except tf.errors.OutOfRangeError:\n",
    "        pass\n",
    "\n",
    "    # for validation\n",
    "    sess.run(val_iterator.initializer)\n",
    "    try:\n",
    "        while True:\n",
    "            val_loss, val_loss_summ = sess.run(fetches = [cnn.ce_loss, loss_summ],\n",
    "                                               feed_dict = {handle : val_handle, cnn._is_training : False})\n",
    "            avg_val_loss += val_loss\n",
    "            val_step += 1\n",
    "    \n",
    "    except tf.errors.OutOfRangeError:\n",
    "        pass\n",
    "\n",
    "    avg_tr_loss /= tr_step\n",
    "    avg_val_loss /= val_step\n",
    "    tr_writer.add_summary(summary = tr_loss_summ, global_step = epoch + 1)\n",
    "    val_writer.add_summary(summary = val_loss_summ, global_step = epoch + 1)\n",
    "    tr_loss_hist.append(avg_tr_loss)\n",
    "    val_loss_hist.append(avg_val_loss)\n",
    "    \n",
    "    if (epoch + 1) % 5 == 0:\n",
    "        print('epoch : {:3}, tr_loss : {:.3f}, val_loss : {:.3f}'.format(epoch + 1, avg_tr_loss, avg_val_loss))\n",
    "\n",
    "tr_writer.close()\n",
    "val_writer.close()\n",
    "saver.save(sess = sess, save_path = '../graphs/lecture07/convnet_mnist_batch_norm/cnn/')"
   ]
  },
  {
   "cell_type": "code",
   "execution_count": 12,
   "metadata": {},
   "outputs": [
    {
     "data": {
      "text/plain": [
       "<matplotlib.legend.Legend at 0x7f5b4c0fb588>"
      ]
     },
     "execution_count": 12,
     "metadata": {},
     "output_type": "execute_result"
    },
    {
     "data": {
      "image/png": "[encoded data removed]",
      "text/plain": [
       "<Figure size 432x288 with 1 Axes>"
      ]
     },
     "metadata": {
      "needs_background": "light"
     },
     "output_type": "display_data"
    }
   ],
   "source": [
    "plt.plot(tr_loss_hist, label = 'train')\n",
    "plt.plot(val_loss_hist, label = 'validation')\n",
    "plt.legend()"
   ]
  },
  {
   "cell_type": "code",
   "execution_count": 13,
   "metadata": {},
   "outputs": [
    {
     "name": "stdout",
     "output_type": "stream",
     "text": [
      "test acc: 99.37%\n"
     ]
    }
   ],
   "source": [
    "yhat = cnn.predict(sess = sess, x_data = x_tst)\n",
    "print('test acc: {:.2%}'.format(np.mean(yhat == y_tst)))"
   ]
  }
 ],
 "metadata": {
  "kernelspec": {
   "display_name": "Python 3",
   "language": "python",
   "name": "python3"
  },
  "language_info": {
   "codemirror_mode": {
    "name": "ipython",
    "version": 3
   },
   "file_extension": ".py",
   "mimetype": "text/x-python",
   "name": "python",
   "nbconvert_exporter": "python",
   "pygments_lexer": "ipython3",
   "version": "3.6.8"
  },
  "varInspector": {
   "cols": {
    "lenName": 16,
    "lenType": 16,
    "lenVar": 40
   },
   "kernels_config": {
    "python": {
     "delete_cmd_postfix": "",
     "delete_cmd_prefix": "del ",
     "library": "var_list.py",
     "varRefreshCmd": "print(var_dic_list())"
    },
    "r": {
     "delete_cmd_postfix": ") ",
     "delete_cmd_prefix": "rm(",
     "library": "var_list.r",
     "varRefreshCmd": "cat(var_dic_list()) "
    }
   },
   "types_to_exclude": [
    "module",
    "function",
    "builtin_function_or_method",
    "instance",
    "_Feature"
   ],
   "window_display": false
  }
 },
 "nbformat": 4,
 "nbformat_minor": 2
}
